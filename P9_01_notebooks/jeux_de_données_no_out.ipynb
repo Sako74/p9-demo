{
 "cells": [
  {
   "cell_type": "code",
   "execution_count": null,
   "id": "38abdb4e",
   "metadata": {
    "gather": {
     "logged": 1635146238901
    }
   },
   "outputs": [],
   "source": [
    "import sys\n",
    "\n",
    "import urllib\n",
    "import zipfile\n",
    "\n",
    "# On ajoute le dossier racine dans les chemins de fichiers de python\n",
    "sys.path.append(\"../\")"
   ]
  },
  {
   "cell_type": "code",
   "execution_count": null,
   "id": "e432e142-126c-49cf-8096-b1a57ebf0aa4",
   "metadata": {
    "gather": {
     "logged": 1635146241144
    },
    "jupyter": {
     "outputs_hidden": false,
     "source_hidden": false
    },
    "nteract": {
     "transient": {
      "deleting": false
     }
    }
   },
   "outputs": [],
   "source": [
    "%load_ext autoreload\n",
    "%autoreload 2\n",
    "\n",
    "from P9_02_scripts.datasets import *\n",
    "from notebook import *"
   ]
  },
  {
   "cell_type": "markdown",
   "id": "2e64eeb8",
   "metadata": {},
   "source": [
    "# Introduction"
   ]
  },
  {
   "cell_type": "code",
   "execution_count": null,
   "id": "36b56471",
   "metadata": {
    "gather": {
     "logged": 1635146167928
    }
   },
   "outputs": [],
   "source": [
    "# Lien vers le dataset\n",
    "DATASET_URL = \"https://s3-eu-west-1.amazonaws.com/static.oc-static.com/prod/courses/files/AI+Engineer/Project+9+-+R%C3%A9alisez+une+application+mobile+de+recommandation+de+contenu/news-portal-user-interactions-by-globocom.zip\"\n",
    "\n",
    "# Fichiers du dataset\n",
    "csv_files = [\"articles_metadata.csv\", \"clicks_sample.csv\"]\n",
    "zip_file = \"clicks\"\n",
    "pickle_file = \"articles_embeddings.pickle\"\n",
    "\n",
    "needed_files = csv_files + [zip_file] + [pickle_file]\n",
    "\n",
    "# Fichiers actuellement présents\n",
    "current_files = os.listdir(CSV_PATH)\n",
    "current_files += os.listdir(PICKLE_PATH)\n",
    "\n",
    "# On vérifie si tous les fichiers/dossiers sont bien présents\n",
    "if all([i in current_files for i in needed_files]):\n",
    "    print(\"Tous les fichiers sont bien présents.\")\n",
    "# Sinon on télécharge et on extrait les données\n",
    "else:\n",
    "    print(\"Téléchargement des données en cours...\")\n",
    "\n",
    "    # On télécharge le .zip dans un fichier temporaire et on extrait les données\n",
    "    tmp, _ = urllib.request.urlretrieve(DATASET_URL)\n",
    "    with zipfile.ZipFile(tmp, \"r\") as f:\n",
    "        # On extrait les fichiers csv\n",
    "        for i in csv_files:\n",
    "            f.extract(i, CSV_PATH)\n",
    "        \n",
    "        # On extrait le fichier zip contenant des fichiers csv\n",
    "        with f.open(zip_file + \".zip\") as f2:\n",
    "            with zipfile.ZipFile(f2, \"r\") as f3:\n",
    "                f3.extractall(CSV_PATH)\n",
    "        \n",
    "        # On extrait le fichier pickle\n",
    "        f.extract(pickle_file, PICKLE_PATH)\n",
    "\n",
    "    # On supprime le fichier temporaire\n",
    "    urllib.request.urlcleanup()\n",
    "    \n",
    "    print(\"Téléchargement des données terminé.\")"
   ]
  },
  {
   "cell_type": "markdown",
   "id": "cef86334",
   "metadata": {},
   "source": [
    "# Chargement des ressources\n",
    "\n",
    "Nous allons charger toutes les ressources Azure qui vont nous permettre de créer et d'enregistrer des jeux de données."
   ]
  },
  {
   "cell_type": "markdown",
   "id": "5aa680c9",
   "metadata": {},
   "source": [
    "## Chargement du workspace"
   ]
  },
  {
   "cell_type": "code",
   "execution_count": null,
   "id": "17ae64ec",
   "metadata": {
    "gather": {
     "logged": 1635146257971
    }
   },
   "outputs": [],
   "source": [
    "# On charge l’espace de travail Azure Machine Learning existant\n",
    "ws = Workspace.from_config()"
   ]
  },
  {
   "cell_type": "markdown",
   "id": "436b94e2",
   "metadata": {},
   "source": [
    "## Chargement du magasin de données"
   ]
  },
  {
   "cell_type": "code",
   "execution_count": null,
   "id": "93c35d2b",
   "metadata": {
    "gather": {
     "logged": 1635146260604
    }
   },
   "outputs": [],
   "source": [
    "# On charge le magasin de données par défaut\n",
    "datastore = ws.get_default_datastore()"
   ]
  },
  {
   "cell_type": "markdown",
   "id": "b55bb11f",
   "metadata": {},
   "source": [
    "# Exploration et analyse des données"
   ]
  },
  {
   "cell_type": "markdown",
   "id": "0e624d5b",
   "metadata": {},
   "source": [
    "## Fichiers clicks_hour_xxx.csv"
   ]
  },
  {
   "cell_type": "markdown",
   "id": "c6cbe77b",
   "metadata": {},
   "source": [
    "### Chargement des fichiers"
   ]
  },
  {
   "cell_type": "code",
   "execution_count": null,
   "id": "9beceec9",
   "metadata": {},
   "outputs": [],
   "source": [
    "clicks_dir = CSV_PATH + \"clicks\"\n",
    "\n",
    "# On ouvre les fichiers et on ajoute les données dans une liste\n",
    "clicks = []\n",
    "for i in tqdm(os.listdir(clicks_dir), leave=False):\n",
    "    tmp = pd.read_csv(os.path.join(clicks_dir, i))\n",
    "    clicks.append(tmp)\n",
    "    \n",
    "# On concatène toutes les données\n",
    "clicks = pd.concat(clicks)\n",
    "clicks.shape"
   ]
  },
  {
   "cell_type": "code",
   "execution_count": null,
   "id": "0a60eb2f",
   "metadata": {},
   "outputs": [],
   "source": [
    "clicks.head()"
   ]
  },
  {
   "cell_type": "markdown",
   "id": "4156515f",
   "metadata": {},
   "source": [
    "### Convertion des types"
   ]
  },
  {
   "cell_type": "code",
   "execution_count": null,
   "id": "0a1704f2",
   "metadata": {},
   "outputs": [],
   "source": [
    "# On met à jour le type des variables\n",
    "clicks = clicks.astype({\n",
    "    \"user_id\": np.uint64,\n",
    "    \"session_id\": np.uint64,\n",
    "    \"session_start\": np.uint64,\n",
    "    \"session_size\": np.uint16,\n",
    "    \"click_article_id\": np.uint64,\n",
    "    \"click_timestamp\": np.uint64,\n",
    "    \"click_environment\": np.uint8,\n",
    "    \"click_deviceGroup\": np.uint8,\n",
    "    \"click_os\": np.uint8,\n",
    "    \"click_country\": np.uint8,\n",
    "    \"click_region\": np.uint8,\n",
    "    \"click_referrer_type\": np.uint8\n",
    "})"
   ]
  },
  {
   "cell_type": "code",
   "execution_count": null,
   "id": "cf2bdeef",
   "metadata": {},
   "outputs": [],
   "source": [
    "# On convertit les timestamps en datetime\n",
    "clicks[\"session_start\"] = pd.to_datetime(clicks['session_start'], unit='ms')\n",
    "clicks[\"click_timestamp\"] = pd.to_datetime(clicks['click_timestamp'], unit='ms')"
   ]
  },
  {
   "cell_type": "code",
   "execution_count": null,
   "id": "c0b0e54b",
   "metadata": {},
   "outputs": [],
   "source": [
    "# On renomme les colonnes\n",
    "clicks = clicks.rename(columns={\n",
    "    \"session_start\": \"session_start_dt\",\n",
    "    \"click_timestamp\": \"click_dt\",\n",
    "})"
   ]
  },
  {
   "cell_type": "code",
   "execution_count": null,
   "id": "94a12d3d",
   "metadata": {},
   "outputs": [],
   "source": [
    "# On trie par ordre chronologique\n",
    "clicks = clicks.sort_values(\"click_dt\")"
   ]
  },
  {
   "cell_type": "markdown",
   "id": "6f25338d",
   "metadata": {},
   "source": [
    "### Indicateurs statistiques"
   ]
  },
  {
   "cell_type": "code",
   "execution_count": null,
   "id": "d600ffd1",
   "metadata": {},
   "outputs": [],
   "source": [
    "num_vars = [\n",
    "    \"session_size\",\n",
    "    \"session_start_dt\",\n",
    "    \"click_dt\"\n",
    "]\n",
    "\n",
    "cat_vars = [\n",
    "    \"user_id\",\n",
    "    \"session_id\",\n",
    "    \"click_article_id\",\n",
    "    \"click_environment\",\n",
    "    \"click_deviceGroup\",\n",
    "    \"click_os\",\n",
    "    \"click_country\",\n",
    "    \"click_region\",\n",
    "    \"click_referrer_type\"\n",
    "]"
   ]
  },
  {
   "cell_type": "code",
   "execution_count": null,
   "id": "4473a483",
   "metadata": {},
   "outputs": [],
   "source": [
    "clicks[num_vars].describe(\n",
    "    percentiles=[0.25, 0.5, 0.75, 0.95, 0.99],\n",
    "    datetime_is_numeric=True\n",
    ").T"
   ]
  },
  {
   "cell_type": "code",
   "execution_count": null,
   "id": "09cec9e6",
   "metadata": {},
   "outputs": [],
   "source": [
    "clicks[cat_vars].astype(\"category\").describe().T"
   ]
  },
  {
   "cell_type": "markdown",
   "id": "b37d9d12",
   "metadata": {},
   "source": [
    "### Longueur des sessions"
   ]
  },
  {
   "cell_type": "code",
   "execution_count": null,
   "id": "f2694c0a",
   "metadata": {},
   "outputs": [],
   "source": [
    "# On regroupe les données par session\n",
    "grp = clicks.groupby(\"session_id\")\n",
    "\n",
    "# On agrège les données\n",
    "grp_agg = grp.agg({\"session_start_dt\": \"min\", \"click_dt\": \"max\"})\n",
    "\n",
    "# On calcule le timedelta entre le dernier click et le début de la session\n",
    "grp_agg[\"session_length_td\"] = grp_agg[\"click_dt\"] - grp_agg[\"session_start_dt\"]\n",
    "grp_agg[\"session_length_td\"].describe(percentiles=[0.25, 0.5, 0.75, 0.95, 0.99])"
   ]
  },
  {
   "cell_type": "markdown",
   "id": "d0f68aeb",
   "metadata": {},
   "source": [
    "### Répartition des clicks par jour"
   ]
  },
  {
   "cell_type": "code",
   "execution_count": null,
   "id": "0359559a",
   "metadata": {},
   "outputs": [],
   "source": [
    "# On regroupe les données par jour\n",
    "grp = clicks.groupby(pd.Grouper(key=\"click_dt\", freq=\"D\"))\n",
    "\n",
    "# On agrège les données\n",
    "grp_agg = grp.agg({\n",
    "    \"click_dt\": lambda x: x.max() - x.min(),\n",
    "    \"click_article_id\": \"count\"\n",
    "})\n",
    "grp_agg = grp_agg.rename(columns={\n",
    "    \"click_dt\": \"click_delta\",\n",
    "    \"click_article_id\": \"click_nb\",\n",
    "})\n",
    "grp_agg"
   ]
  },
  {
   "cell_type": "code",
   "execution_count": null,
   "id": "ddbf9d08",
   "metadata": {},
   "outputs": [],
   "source": [
    "clicks = clicks[clicks[\"click_dt\"] < datetime(2017, 10, 17)]"
   ]
  },
  {
   "cell_type": "code",
   "execution_count": null,
   "id": "f2953d85",
   "metadata": {},
   "outputs": [],
   "source": [
    "fig, ax = plt.subplots(figsize=(16, 8))\n",
    "\n",
    "clicks[\"click_dt\"].dt.date.value_counts().sort_index().plot.bar(ax=ax)\n",
    "\n",
    "ax.set_title(\"Nombre de clicks par jour\")\n",
    "ax.set_xlabel(\"Jour\")\n",
    "ax.set_ylabel(\"Nombre de clicks\")\n",
    "\n",
    "plt.show()"
   ]
  },
  {
   "cell_type": "markdown",
   "id": "e0b01e39",
   "metadata": {},
   "source": [
    "### Nombre d'utilisateurs par jour"
   ]
  },
  {
   "cell_type": "code",
   "execution_count": null,
   "id": "7512f814",
   "metadata": {},
   "outputs": [],
   "source": [
    "# On regroupe les données par jour\n",
    "grp = clicks.groupby(pd.Grouper(key=\"click_dt\", freq=\"D\"))\n",
    "\n",
    "# On calcule l'ensemble cumulé des ids des utilisateurs par jour\n",
    "grp_agg = grp.agg({\"user_id\": lambda x: x.unique().tolist()}) \n",
    "grp_agg[\"user_id\"] = grp_agg[\"user_id\"].cumsum().apply(set)\n",
    "\n",
    "# On ajoute une colonne représentant le jour précédent\n",
    "grp_agg[\"prev_user_id\"] = grp_agg[\"user_id\"].shift(1)\n",
    "grp_agg[\"prev_user_id\"] = grp_agg[\"prev_user_id\"].fillna(\"\").apply(set)\n",
    "\n",
    "# On calcule le nombre d'utilisateur connus et inconnus par jour\n",
    "grp_agg[\"user_nb\"] = grp_agg[[\"user_id\", \"prev_user_id\"]].aggregate(lambda x: len(x[0] & x[1]), axis=1)\n",
    "grp_agg[\"new_user_nb\"] = (grp_agg[\"user_id\"] - grp_agg[\"prev_user_id\"]).apply(len)\n",
    "\n",
    "# On nettoie les colonnes et l'index pour l'affichage\n",
    "grp_agg = grp_agg[[\"user_nb\", \"new_user_nb\"]]\n",
    "grp_agg = grp_agg.rename(columns={\n",
    "    \"user_nb\": \"nombre d'utilisateurs connus dans la journée\",\n",
    "    \"new_user_nb\": \"nombre d'utilisateurs inconnus dans la journée\",\n",
    "})\n",
    "grp_agg.index = grp_agg.index.date\n",
    "grp_agg"
   ]
  },
  {
   "cell_type": "code",
   "execution_count": null,
   "id": "b99a227e",
   "metadata": {},
   "outputs": [],
   "source": [
    "fig, ax = plt.subplots(figsize=(16, 8))\n",
    "\n",
    "grp_agg.plot.bar(ax=ax)\n",
    "\n",
    "ax.set_title(\"Nombre d'utilisateurs par jour\")\n",
    "ax.set_xlabel(\"Jour\")\n",
    "ax.set_ylabel(\"Nombre d'utilisateurs\")\n",
    "\n",
    "plt.show()"
   ]
  },
  {
   "cell_type": "code",
   "execution_count": null,
   "id": "6aae01f3",
   "metadata": {},
   "outputs": [],
   "source": [
    "del(clicks)\n",
    "gc.collect()"
   ]
  },
  {
   "cell_type": "markdown",
   "id": "e32746b9",
   "metadata": {},
   "source": [
    "## Fichier articles_metadata.csv"
   ]
  },
  {
   "cell_type": "code",
   "execution_count": null,
   "id": "48ddf850",
   "metadata": {},
   "outputs": [],
   "source": [
    "# On récupère les métadonnées des articles\n",
    "articles_metadata = pd.read_csv(CSV_PATH + \"articles_metadata.csv\")\n",
    "articles_metadata.shape"
   ]
  },
  {
   "cell_type": "code",
   "execution_count": null,
   "id": "28f84fd1",
   "metadata": {},
   "outputs": [],
   "source": [
    "articles_metadata.head()"
   ]
  },
  {
   "cell_type": "markdown",
   "id": "4be4b06d",
   "metadata": {},
   "source": [
    "### Convertion des types"
   ]
  },
  {
   "cell_type": "code",
   "execution_count": null,
   "id": "28f5c07c",
   "metadata": {},
   "outputs": [],
   "source": [
    "# On met à jour le type des variables\n",
    "articles_metadata = articles_metadata.astype({\n",
    "    \"article_id\": np.uint64,\n",
    "    \"category_id\": np.uint16,\n",
    "    \"created_at_ts\": np.uint64,\n",
    "    \"publisher_id\": np.uint8,\n",
    "    \"words_count\": np.uint16\n",
    "})"
   ]
  },
  {
   "cell_type": "code",
   "execution_count": null,
   "id": "1930e76d",
   "metadata": {},
   "outputs": [],
   "source": [
    "# On convertit les timestamps en datetime\n",
    "articles_metadata[\"created_at_ts\"] = pd.to_datetime(articles_metadata['created_at_ts'], unit='ms')"
   ]
  },
  {
   "cell_type": "code",
   "execution_count": null,
   "id": "caa29411",
   "metadata": {},
   "outputs": [],
   "source": [
    "# On renomme les colonnes\n",
    "articles_metadata = articles_metadata.rename(columns={\n",
    "    \"created_at_ts\": \"created_dt\",\n",
    "    \"words_count\": \"word_nb\",\n",
    "})"
   ]
  },
  {
   "cell_type": "markdown",
   "id": "3828fc6c",
   "metadata": {},
   "source": [
    "### Indicateurs statistiques"
   ]
  },
  {
   "cell_type": "code",
   "execution_count": null,
   "id": "1b9ae6d6",
   "metadata": {},
   "outputs": [],
   "source": [
    "num_vars = [\"word_nb\", \"created_dt\"]\n",
    "cat_vars = [\"article_id\", \"category_id\"]"
   ]
  },
  {
   "cell_type": "code",
   "execution_count": null,
   "id": "9b47d4a7",
   "metadata": {},
   "outputs": [],
   "source": [
    "articles_metadata[num_vars].describe(\n",
    "    percentiles=[0.25, 0.5, 0.75, 0.95, 0.99],\n",
    "    datetime_is_numeric=True\n",
    ").T"
   ]
  },
  {
   "cell_type": "code",
   "execution_count": null,
   "id": "041ef275",
   "metadata": {},
   "outputs": [],
   "source": [
    "articles_metadata[cat_vars].astype(\"category\").describe().T"
   ]
  },
  {
   "cell_type": "markdown",
   "id": "41c34ea5",
   "metadata": {},
   "source": [
    "### Suppression des variables inutiles"
   ]
  },
  {
   "cell_type": "code",
   "execution_count": null,
   "id": "4d2df124",
   "metadata": {},
   "outputs": [],
   "source": [
    "# On supprime les colonnes inutiles\n",
    "articles_metadata = articles_metadata.drop(columns=[\"publisher_id\"])"
   ]
  },
  {
   "cell_type": "markdown",
   "id": "a2de3597",
   "metadata": {},
   "source": [
    "### Nombre d'articles ajoutés par an"
   ]
  },
  {
   "cell_type": "code",
   "execution_count": null,
   "id": "def0fb61",
   "metadata": {},
   "outputs": [],
   "source": [
    "# On regroupe les données par an\n",
    "grp = articles_metadata.groupby(pd.Grouper(key=\"created_dt\", freq=\"Y\"))\n",
    "\n",
    "# On calcule le nombre d'articles ajoutés\n",
    "grp_agg = grp.agg({\"article_id\": \"count\"})\n",
    "\n",
    "# On nettoie les colonnes et l'index pour l'affichage\n",
    "grp_agg = grp_agg.rename(columns={\n",
    "    \"article_id\": \"nombre d'articles ajoutés dans l'année\"\n",
    "})\n",
    "grp_agg.index = grp_agg.index.year\n",
    "grp_agg"
   ]
  },
  {
   "cell_type": "code",
   "execution_count": null,
   "id": "d96b0361",
   "metadata": {},
   "outputs": [],
   "source": [
    "fig, ax = plt.subplots(figsize=(16, 8))\n",
    "\n",
    "grp_agg.plot.bar(ax=ax)\n",
    "\n",
    "ax.set_title(\"Nombre d'articles ajoutés par an\")\n",
    "ax.set_xlabel(\"Année\")\n",
    "ax.set_ylabel(\"Nombre d'articles\")\n",
    "\n",
    "plt.show()"
   ]
  },
  {
   "cell_type": "code",
   "execution_count": null,
   "id": "afd7b5c4",
   "metadata": {},
   "outputs": [],
   "source": [
    "del(articles_metadata)\n",
    "gc.collect()"
   ]
  },
  {
   "cell_type": "markdown",
   "id": "df795106",
   "metadata": {},
   "source": [
    "## Fichier articles_embeddings.pickle"
   ]
  },
  {
   "cell_type": "code",
   "execution_count": null,
   "id": "ca9f8f57",
   "metadata": {},
   "outputs": [],
   "source": [
    "# On récupère les embeddings des articles\n",
    "with open(PICKLE_PATH + \"articles_embeddings.pickle\", \"rb\") as f:\n",
    "    articles_embeddings = pickle.load(f)\n",
    "    \n",
    "# On les place dans un dataframe\n",
    "articles_embeddings = pd.DataFrame(\n",
    "    articles_embeddings.tolist(),\n",
    "    columns=[f\"emb_{i}\" for i in range(articles_embeddings.shape[1])]\n",
    ")\n",
    "articles_embeddings.shape"
   ]
  },
  {
   "cell_type": "code",
   "execution_count": null,
   "id": "fa9bc52f",
   "metadata": {},
   "outputs": [],
   "source": [
    "articles_embeddings.head()"
   ]
  },
  {
   "cell_type": "markdown",
   "id": "8b1cf994",
   "metadata": {},
   "source": [
    "### Indicateurs statistiques"
   ]
  },
  {
   "cell_type": "code",
   "execution_count": null,
   "id": "ac6e6580",
   "metadata": {},
   "outputs": [],
   "source": [
    "articles_embeddings.iloc[:10].T.describe().T"
   ]
  },
  {
   "cell_type": "code",
   "execution_count": null,
   "id": "41320a97",
   "metadata": {},
   "outputs": [],
   "source": [
    "del(articles_embeddings)\n",
    "gc.collect()"
   ]
  },
  {
   "cell_type": "markdown",
   "id": "1b2ea4b1",
   "metadata": {},
   "source": [
    "# Enregistrement des données brutes"
   ]
  },
  {
   "cell_type": "markdown",
   "id": "6c5d6cde",
   "metadata": {},
   "source": [
    "## Chargement des données"
   ]
  },
  {
   "cell_type": "code",
   "execution_count": null,
   "id": "3d069e59",
   "metadata": {},
   "outputs": [],
   "source": [
    "clicks = get_clicks(CSV_PATH + \"clicks\")\n",
    "clicks = clicks[clicks[\"click_dt\"] < datetime(2017, 10, 17)]"
   ]
  },
  {
   "cell_type": "code",
   "execution_count": null,
   "id": "0bec3a23",
   "metadata": {},
   "outputs": [],
   "source": [
    "clicks.iloc[[0, 1, -2, -1]]"
   ]
  },
  {
   "cell_type": "code",
   "execution_count": null,
   "id": "7205a6bb",
   "metadata": {},
   "outputs": [],
   "source": [
    "articles = get_articles(\n",
    "    CSV_PATH + \"articles_metadata.csv\",\n",
    "    PICKLE_PATH + \"articles_embeddings.pickle\",\n",
    ")"
   ]
  },
  {
   "cell_type": "code",
   "execution_count": null,
   "id": "acc61c5e",
   "metadata": {},
   "outputs": [],
   "source": [
    "articles.iloc[[0, 1, -2, -1]]"
   ]
  },
  {
   "cell_type": "markdown",
   "id": "eb0aad0d",
   "metadata": {},
   "source": [
    "## Enregistrement dans le datastore"
   ]
  },
  {
   "cell_type": "code",
   "execution_count": null,
   "id": "25ab36a5",
   "metadata": {},
   "outputs": [],
   "source": [
    "# On enregistre les données jour par jour dans le datastore\n",
    "upload_clicks_in_datastore(clicks, datastore)"
   ]
  },
  {
   "cell_type": "code",
   "execution_count": null,
   "id": "593e2aea",
   "metadata": {},
   "outputs": [],
   "source": [
    "# On enregistre les données année par année dans le datastore\n",
    "upload_articles_in_datastore(articles, datastore)"
   ]
  },
  {
   "cell_type": "markdown",
   "id": "dcb9a8ee",
   "metadata": {},
   "source": [
    "## Enregistrement des datasets"
   ]
  },
  {
   "cell_type": "code",
   "execution_count": null,
   "id": "aada4c68",
   "metadata": {},
   "outputs": [],
   "source": [
    "# On crée/update le dataset avec tous les fichiers clicks présents dans le datastore\n",
    "clicks_ds = create_update_clicks_dataset(ws, datastore)"
   ]
  },
  {
   "cell_type": "code",
   "execution_count": null,
   "id": "96c2c502",
   "metadata": {},
   "outputs": [],
   "source": [
    "# On crée/update le dataset avec tous les fichiers articles présents dans le datastore\n",
    "articles_ds = create_update_articles_dataset(ws, datastore)"
   ]
  },
  {
   "cell_type": "markdown",
   "id": "0da18ab8",
   "metadata": {},
   "source": [
    "# Transformation des données"
   ]
  },
  {
   "cell_type": "markdown",
   "id": "3a8fa833",
   "metadata": {},
   "source": [
    "## Split temporel des données"
   ]
  },
  {
   "cell_type": "code",
   "execution_count": null,
   "id": "5f11cf4a",
   "metadata": {},
   "outputs": [],
   "source": [
    "test_end_dt = datetime(2017, 10, 17)\n",
    "test_start_dt = test_end_dt - timedelta(days=1)\n",
    "\n",
    "valid_end_dt = test_start_dt - timedelta(days=1)\n",
    "valid_start_dt = valid_end_dt - timedelta(days=1)\n",
    "\n",
    "train_end_dt = valid_start_dt - timedelta(days=1)\n",
    "train_start_dt = train_end_dt - timedelta(days=5)\n",
    "\n",
    "print(\"Test period :\\t\", test_end_dt, \"-\", test_start_dt)\n",
    "print(\"Valid period :\\t\", valid_end_dt, \"-\", valid_start_dt)\n",
    "print(\"Train period :\\t\", train_end_dt, \"-\", train_start_dt)"
   ]
  },
  {
   "cell_type": "markdown",
   "id": "337e56e9",
   "metadata": {},
   "source": [
    "## Chargement des datasets"
   ]
  },
  {
   "cell_type": "code",
   "execution_count": null,
   "id": "09bfd795",
   "metadata": {},
   "outputs": [],
   "source": [
    "# On récupère le dataset filtré en fonction de l'horodatage des clicks\n",
    "test_clicks_ds = get_clicks_dataset(ws, start_time=test_start_dt, end_time=test_end_dt)\n",
    "valid_clicks_ds = get_clicks_dataset(ws, start_time=valid_start_dt, end_time=valid_end_dt)\n",
    "train_clicks_ds = get_clicks_dataset(ws, start_time=train_start_dt, end_time=train_end_dt)\n",
    "\n",
    "# On mets les données dans des dataframes\n",
    "test_clicks = test_clicks_ds.to_pandas_dataframe().reset_index(drop=True)\n",
    "valid_clicks = valid_clicks_ds.to_pandas_dataframe().reset_index(drop=True)\n",
    "train_clicks = train_clicks_ds.to_pandas_dataframe().reset_index(drop=True)\n",
    "\n",
    "test_clicks.shape, valid_clicks.shape, train_clicks.shape"
   ]
  },
  {
   "cell_type": "code",
   "execution_count": null,
   "id": "c501df0f",
   "metadata": {},
   "outputs": [],
   "source": [
    "# On récupère le dataset\n",
    "articles_ds = get_articles_dataset(ws)\n",
    "\n",
    "# On mets les données dans un dataframe\n",
    "articles = articles_ds.to_pandas_dataframe().reset_index(drop=True)\n",
    "\n",
    "articles.shape"
   ]
  },
  {
   "cell_type": "markdown",
   "id": "67df862f",
   "metadata": {},
   "source": [
    "## Filtrage des données"
   ]
  },
  {
   "cell_type": "code",
   "execution_count": null,
   "id": "c30f79fa",
   "metadata": {},
   "outputs": [],
   "source": [
    "test_clicks = filter_clicks(test_clicks, click_article_nb_ge=5)\n",
    "valid_clicks = filter_clicks(valid_clicks, click_article_nb_ge=5)\n",
    "\n",
    "test_clicks.shape, valid_clicks.shape"
   ]
  },
  {
   "cell_type": "markdown",
   "id": "393e7aa0",
   "metadata": {},
   "source": [
    "## Nombre d'utilisateurs"
   ]
  },
  {
   "cell_type": "code",
   "execution_count": null,
   "id": "839e0b68",
   "metadata": {},
   "outputs": [],
   "source": [
    "test_user_ids = set(test_clicks[\"user_id\"].unique())\n",
    "valid_user_ids = set(valid_clicks[\"user_id\"].unique())\n",
    "train_user_ids = set(train_clicks[\"user_id\"].unique())"
   ]
  },
  {
   "cell_type": "code",
   "execution_count": null,
   "id": "51ecaaf7",
   "metadata": {},
   "outputs": [],
   "source": [
    "for name, user_ids in zip([\"test\", \"validation\"], [test_user_ids, valid_user_ids]):\n",
    "    user_nb = len(test_user_ids)\n",
    "\n",
    "    known_user_nb = len(user_ids & train_user_ids)\n",
    "    known_user_ratio = known_user_nb / len(user_ids)\n",
    "\n",
    "    unknown_user_nb = len(user_ids - train_user_ids)\n",
    "    unknown_user_ratio = unknown_user_nb / len(user_ids)\n",
    "\n",
    "    print(f\"Le jeu de {name} contient :\")\n",
    "    print(f\"- {known_user_ratio:.1%} ({known_user_nb}/{user_nb}) utilisateurs connus.\")\n",
    "    print(f\"- {unknown_user_ratio:.1%} ({unknown_user_nb}/{user_nb}) utilisateurs inconnus.\\n\")"
   ]
  },
  {
   "cell_type": "markdown",
   "id": "29db19ea",
   "metadata": {},
   "source": [
    "## Notation des articles"
   ]
  },
  {
   "cell_type": "markdown",
   "id": "5baf303d",
   "metadata": {},
   "source": [
    "### Jeu d'entrainement"
   ]
  },
  {
   "cell_type": "code",
   "execution_count": null,
   "id": "bac5a1b3",
   "metadata": {},
   "outputs": [],
   "source": [
    "train_user_article_ratings = get_user_article_ratings(train_clicks)\n",
    "train_user_article_ratings.shape"
   ]
  },
  {
   "cell_type": "code",
   "execution_count": null,
   "id": "ebb223d8",
   "metadata": {},
   "outputs": [],
   "source": [
    "train_user_article_ratings.iloc[[0, 1, -2, -1]]"
   ]
  },
  {
   "cell_type": "code",
   "execution_count": null,
   "id": "80f98ae7",
   "metadata": {},
   "outputs": [],
   "source": [
    "train_user_article_ratings = add_user_article_ratings_tns(\n",
    "    train_user_article_ratings,\n",
    "    tn_nb=None,\n",
    "    random_state=RANDOM_SEED\n",
    ")\n",
    "train_user_article_ratings.shape"
   ]
  },
  {
   "cell_type": "code",
   "execution_count": null,
   "id": "3b257f81",
   "metadata": {},
   "outputs": [],
   "source": [
    "train_user_article_ratings.iloc[[0, 1, -2, -1]]"
   ]
  },
  {
   "cell_type": "code",
   "execution_count": null,
   "id": "5ff22c34",
   "metadata": {},
   "outputs": [],
   "source": [
    "train_user_article_ratings.to_parquet(\n",
    "    PARQUET_PATH + \"train_user_article_ratings.parquet\",\n",
    "    index=False,\n",
    "    coerce_timestamps='ms'\n",
    ")"
   ]
  },
  {
   "cell_type": "markdown",
   "id": "2a100d66",
   "metadata": {},
   "source": [
    "### Jeu de validation"
   ]
  },
  {
   "cell_type": "code",
   "execution_count": null,
   "id": "ec92d378",
   "metadata": {},
   "outputs": [],
   "source": [
    "valid_user_article_ratings = get_user_article_ratings(valid_clicks)\n",
    "valid_user_article_ratings.shape"
   ]
  },
  {
   "cell_type": "code",
   "execution_count": null,
   "id": "88ddd158",
   "metadata": {},
   "outputs": [],
   "source": [
    "valid_user_article_ratings = add_user_article_ratings_tns(\n",
    "    valid_user_article_ratings,\n",
    "    tn_nb=100,\n",
    "    random_state=RANDOM_SEED\n",
    ")\n",
    "valid_user_article_ratings.shape"
   ]
  },
  {
   "cell_type": "code",
   "execution_count": null,
   "id": "3e0dc716",
   "metadata": {},
   "outputs": [],
   "source": [
    "valid_user_article_ratings.iloc[[0, 1, -2, -1]]"
   ]
  },
  {
   "cell_type": "code",
   "execution_count": null,
   "id": "9a217411",
   "metadata": {},
   "outputs": [],
   "source": [
    "valid_user_article_ratings.to_parquet(\n",
    "    PARQUET_PATH + \"valid_user_article_ratings.parquet\",\n",
    "    index=False,\n",
    "    coerce_timestamps='ms'\n",
    ")"
   ]
  },
  {
   "cell_type": "markdown",
   "id": "00d81f6f",
   "metadata": {},
   "source": [
    "### Jeu de test"
   ]
  },
  {
   "cell_type": "code",
   "execution_count": null,
   "id": "a33fe295",
   "metadata": {},
   "outputs": [],
   "source": [
    "test_user_article_ratings = get_user_article_ratings(test_clicks)\n",
    "test_user_article_ratings.shape"
   ]
  },
  {
   "cell_type": "code",
   "execution_count": null,
   "id": "b1c9105a",
   "metadata": {},
   "outputs": [],
   "source": [
    "test_user_article_ratings = add_user_article_ratings_tns(\n",
    "    test_user_article_ratings,\n",
    "    tn_nb=100,\n",
    "    random_state=RANDOM_SEED\n",
    ")\n",
    "test_user_article_ratings.shape"
   ]
  },
  {
   "cell_type": "code",
   "execution_count": null,
   "id": "16cb8dd7",
   "metadata": {},
   "outputs": [],
   "source": [
    "test_user_article_ratings.iloc[[0, 1, -2, -1]]"
   ]
  },
  {
   "cell_type": "code",
   "execution_count": null,
   "id": "d46e44a7",
   "metadata": {},
   "outputs": [],
   "source": [
    "test_user_article_ratings.to_parquet(\n",
    "    PARQUET_PATH + \"test_user_article_ratings.parquet\",\n",
    "    index=False,\n",
    "    coerce_timestamps='ms'\n",
    ")"
   ]
  },
  {
   "cell_type": "markdown",
   "id": "8e92a99a",
   "metadata": {},
   "source": [
    "## Profils des articles"
   ]
  },
  {
   "cell_type": "markdown",
   "id": "43e8bdd8",
   "metadata": {},
   "source": [
    "### Jeu d'entrainement"
   ]
  },
  {
   "cell_type": "code",
   "execution_count": null,
   "id": "1d09f85e",
   "metadata": {},
   "outputs": [],
   "source": [
    "article_profiles = get_article_profiles(train_clicks, articles)\n",
    "article_profiles.shape"
   ]
  },
  {
   "cell_type": "code",
   "execution_count": null,
   "id": "cac38e82",
   "metadata": {},
   "outputs": [],
   "source": [
    "article_profiles.iloc[[0, 1, -2, -1]]"
   ]
  },
  {
   "cell_type": "code",
   "execution_count": null,
   "id": "fcd3e43f",
   "metadata": {},
   "outputs": [],
   "source": [
    "article_profiles.to_parquet(PARQUET_PATH + \"article_profiles.parquet\", index=False, coerce_timestamps='ms')"
   ]
  },
  {
   "cell_type": "markdown",
   "id": "cff6f02a",
   "metadata": {},
   "source": [
    "## Profils des utilisateur"
   ]
  },
  {
   "cell_type": "markdown",
   "id": "caa0c4fe",
   "metadata": {},
   "source": [
    "### Jeu d'entrainement"
   ]
  },
  {
   "cell_type": "code",
   "execution_count": null,
   "id": "dbdbd05a",
   "metadata": {},
   "outputs": [],
   "source": [
    "train_user_profiles = get_user_profiles(train_clicks, article_profiles)\n",
    "train_user_profiles.shape"
   ]
  },
  {
   "cell_type": "code",
   "execution_count": null,
   "id": "e510ca04",
   "metadata": {},
   "outputs": [],
   "source": [
    "train_user_profiles.head()"
   ]
  },
  {
   "cell_type": "code",
   "execution_count": null,
   "id": "dfe61fcd",
   "metadata": {},
   "outputs": [],
   "source": [
    "train_user_profiles.to_parquet(PARQUET_PATH + \"train_user_profiles.parquet\", index=False)"
   ]
  },
  {
   "cell_type": "markdown",
   "id": "ad92a6e0",
   "metadata": {},
   "source": [
    "## Enregistrement des données transformées"
   ]
  },
  {
   "cell_type": "code",
   "execution_count": null,
   "id": "b7f819ce",
   "metadata": {},
   "outputs": [],
   "source": [
    "train_user_article_ratings_ds = Dataset.Tabular.register_pandas_dataframe(\n",
    "    dataframe=train_user_article_ratings,\n",
    "    target=(datastore, \"train_user_article_ratings\"),\n",
    "    name=\"train_user_article_ratings\",\n",
    "    description=\"Jeu d'entrainement des notations des articles\"\n",
    ")\n",
    "\n",
    "valid_user_article_ratings_ds = Dataset.Tabular.register_pandas_dataframe(\n",
    "    dataframe=valid_user_article_ratings,\n",
    "    target=(datastore, \"valid_user_article_ratings\"),\n",
    "    name=\"valid_user_article_ratings\",\n",
    "    description=\"Jeu de validation des notations des articles\"\n",
    ")\n",
    "\n",
    "test_user_article_ratings_ds = Dataset.Tabular.register_pandas_dataframe(\n",
    "    dataframe=test_user_article_ratings,\n",
    "    target=(datastore, \"test_user_article_ratings\"),\n",
    "    name=\"test_user_article_ratings\",\n",
    "    description=\"Jeu de test des notations des articles\"\n",
    ")\n",
    "\n",
    "article_profiles_ds = Dataset.Tabular.register_pandas_dataframe(\n",
    "    dataframe=article_profiles,\n",
    "    target=(datastore, \"article_profiles\"),\n",
    "    name=\"article_profiles\",\n",
    "    description=\"Jeu d'entrainement des profils des articles\"\n",
    ")\n",
    "\n",
    "train_user_profiles_ds = Dataset.Tabular.register_pandas_dataframe(\n",
    "    dataframe=train_user_profiles,\n",
    "    target=(datastore, \"train_user_profiles\"),\n",
    "    name=\"train_user_profiles\",\n",
    "    description=\"Jeu d'entrainement des profils des utilisateurs\"\n",
    ")"
   ]
  },
  {
   "cell_type": "markdown",
   "id": "bf5c172b",
   "metadata": {},
   "source": [
    "# SQL database  (à supprimer)"
   ]
  },
  {
   "cell_type": "code",
   "execution_count": null,
   "id": "4600494d",
   "metadata": {},
   "outputs": [],
   "source": [
    "cursor.fast_executemany()"
   ]
  },
  {
   "cell_type": "code",
   "execution_count": null,
   "id": "4fe23514",
   "metadata": {},
   "outputs": [],
   "source": [
    "from io import StringIO\n",
    "\n",
    "def to_sql(engine, df, table, if_exists='fail', sep='\\t', encoding='utf8'):\n",
    "    # Create Table\n",
    "    df[:0].to_sql(table, engine, if_exists=if_exists)\n",
    "\n",
    "    # Prepare data\n",
    "    output = StringIO()\n",
    "    df.to_csv(output, sep=sep, header=False, encoding=encoding)\n",
    "    output.seek(0)\n",
    "\n",
    "    # Insert data\n",
    "    connection = engine.raw_connection()\n",
    "    cursor = connection.cursor()\n",
    "#     cursor.copy_from(output, table, sep=sep, null='')\n",
    "    string = \"BULK INSERT {} FROM '{}' (WITH FORMAT = 'CSV');\"\n",
    "    cursor.execute(string.format(table, output))\n",
    "    connection.commit()\n",
    "    cursor.close()\n",
    "    \n",
    "to_sql(engine, clicks, \"clicks\", if_exists='replace', sep='\\t', encoding='utf8')"
   ]
  },
  {
   "cell_type": "code",
   "execution_count": null,
   "id": "eacc5863",
   "metadata": {},
   "outputs": [],
   "source": [
    "sql_datastore = Datastore.get(ws, \"workspacesqlstore\")"
   ]
  },
  {
   "cell_type": "code",
   "execution_count": null,
   "id": "5bce1ce7",
   "metadata": {},
   "outputs": [],
   "source": [
    "from azureml.data.sql_data_reference import SqlDataReference\n",
    "from azureml.data.datapath import DataPath"
   ]
  },
  {
   "cell_type": "code",
   "execution_count": null,
   "id": "8f5ff0a8",
   "metadata": {},
   "outputs": [],
   "source": [
    "import pyodbc\n",
    "import sqlalchemy\n",
    "from sqlalchemy.engine import URL"
   ]
  },
  {
   "cell_type": "code",
   "execution_count": null,
   "id": "54cdaa66",
   "metadata": {},
   "outputs": [],
   "source": [
    "connection_string = 'Driver={ODBC Driver 17 for SQL Server};Server=tcp:p9-sql-server.database.windows.net,1433;Database=p9-db;Uid=yannsako@p9-sql-server;Pwd=wCAqaeCVZs4QFUz;Encrypt=yes;TrustServerCertificate=no;Connection Timeout=60;'\n",
    "connection_url = URL.create(\"mssql+pyodbc\", query={\"odbc_connect\": connection_string})\n",
    "\n",
    "engine = sqlalchemy.create_engine(connection_url, fast_executemany=True)"
   ]
  },
  {
   "cell_type": "code",
   "execution_count": null,
   "id": "5d967fc4",
   "metadata": {},
   "outputs": [],
   "source": [
    "clicks.to_sql(\"clicks\", engine, if_exists='replace')"
   ]
  },
  {
   "cell_type": "code",
   "execution_count": null,
   "id": "e650560b",
   "metadata": {},
   "outputs": [],
   "source": [
    "pd.read_sql_query(\"SELECT * FROM clicks\", engine)"
   ]
  },
  {
   "cell_type": "code",
   "execution_count": null,
   "id": "000314ad",
   "metadata": {},
   "outputs": [],
   "source": [
    "query = DataPath(sql_datastore, 'select * from clicks')\n",
    "tabular = Dataset.Tabular.from_sql_query(query, query_timeout=60, validate=False)"
   ]
  },
  {
   "cell_type": "code",
   "execution_count": null,
   "id": "e3934d13",
   "metadata": {},
   "outputs": [],
   "source": [
    "df = tabular.to_pandas_dataframe()\n",
    "df.shape"
   ]
  }
 ],
 "metadata": {
  "kernel_info": {
   "name": "p9"
  },
  "kernelspec": {
   "display_name": "p9",
   "language": "python",
   "name": "p9"
  },
  "language_info": {
   "codemirror_mode": {
    "name": "ipython",
    "version": 3
   },
   "file_extension": ".py",
   "mimetype": "text/x-python",
   "name": "python",
   "nbconvert_exporter": "python",
   "pygments_lexer": "ipython3",
   "version": "3.8.8"
  },
  "nteract": {
   "version": "nteract-front-end@1.0.0"
  },
  "toc": {
   "base_numbering": 1,
   "nav_menu": {},
   "number_sections": true,
   "sideBar": true,
   "skip_h1_title": false,
   "title_cell": "Table of Contents",
   "title_sidebar": "Contents",
   "toc_cell": false,
   "toc_position": {
    "height": "calc(100% - 180px)",
    "left": "10px",
    "top": "150px",
    "width": "320px"
   },
   "toc_section_display": true,
   "toc_window_display": true
  }
 },
 "nbformat": 4,
 "nbformat_minor": 5
}
