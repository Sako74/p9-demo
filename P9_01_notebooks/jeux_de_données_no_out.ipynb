{
 "cells": [
  {
   "cell_type": "code",
   "execution_count": null,
   "id": "e432e142-126c-49cf-8096-b1a57ebf0aa4",
   "metadata": {
    "gather": {
     "logged": 1635146241144
    },
    "jupyter": {
     "outputs_hidden": false,
     "source_hidden": false
    },
    "nteract": {
     "transient": {
      "deleting": false
     }
    }
   },
   "outputs": [],
   "source": [
    "import sys\n",
    "\n",
    "import urllib\n",
    "import zipfile\n",
    "\n",
    "%load_ext autoreload\n",
    "%autoreload 2\n",
    "\n",
    "sys.path.append(\"../\")\n",
    "from P9_02_scripts.datasets import *\n",
    "from P9_02_scripts.data_transform.run import *\n",
    "from notebook import *"
   ]
  },
  {
   "cell_type": "markdown",
   "id": "2e64eeb8",
   "metadata": {},
   "source": [
    "# Introduction"
   ]
  },
  {
   "cell_type": "code",
   "execution_count": null,
   "id": "36b56471",
   "metadata": {
    "gather": {
     "logged": 1635146167928
    }
   },
   "outputs": [],
   "source": [
    "# Lien vers le dataset\n",
    "DATASET_URL = \"https://s3-eu-west-1.amazonaws.com/static.oc-static.com/prod/courses/files/AI+Engineer/Project+9+-+R%C3%A9alisez+une+application+mobile+de+recommandation+de+contenu/news-portal-user-interactions-by-globocom.zip\"\n",
    "\n",
    "# Fichiers du dataset\n",
    "csv_files = [\"articles_metadata.csv\", \"clicks_sample.csv\"]\n",
    "zip_file = \"clicks\"\n",
    "pickle_file = \"articles_embeddings.pickle\"\n",
    "\n",
    "needed_files = csv_files + [zip_file] + [pickle_file]\n",
    "\n",
    "# Fichiers actuellement présents\n",
    "current_files = os.listdir(CSV_PATH)\n",
    "current_files += os.listdir(PICKLE_PATH)\n",
    "\n",
    "# On vérifie si tous les fichiers/dossiers sont bien présents\n",
    "if all([i in current_files for i in needed_files]):\n",
    "    print(\"Tous les fichiers sont bien présents.\")\n",
    "# Sinon on télécharge et on extrait les données\n",
    "else:\n",
    "    print(\"Téléchargement des données en cours...\")\n",
    "\n",
    "    # On télécharge le .zip dans un fichier temporaire et on extrait les données\n",
    "    tmp, _ = urllib.request.urlretrieve(DATASET_URL)\n",
    "    with zipfile.ZipFile(tmp, \"r\") as f:\n",
    "        # On extrait les fichiers csv\n",
    "        for i in csv_files:\n",
    "            f.extract(i, CSV_PATH)\n",
    "        \n",
    "        # On extrait le fichier zip contenant des fichiers csv\n",
    "        with f.open(zip_file + \".zip\") as f2:\n",
    "            with zipfile.ZipFile(f2, \"r\") as f3:\n",
    "                f3.extractall(CSV_PATH)\n",
    "        \n",
    "        # On extrait le fichier pickle\n",
    "        f.extract(pickle_file, PICKLE_PATH)\n",
    "\n",
    "    # On supprime le fichier temporaire\n",
    "    urllib.request.urlcleanup()\n",
    "    \n",
    "    print(\"Téléchargement des données terminé.\")"
   ]
  },
  {
   "cell_type": "markdown",
   "id": "cef86334",
   "metadata": {},
   "source": [
    "# Chargement des ressources\n",
    "\n",
    "Nous allons charger toutes les ressources Azure qui vont nous permettre de créer et d'enregistrer des jeux de données."
   ]
  },
  {
   "cell_type": "markdown",
   "id": "5aa680c9",
   "metadata": {},
   "source": [
    "## Chargement du workspace"
   ]
  },
  {
   "cell_type": "code",
   "execution_count": null,
   "id": "17ae64ec",
   "metadata": {
    "gather": {
     "logged": 1635146257971
    }
   },
   "outputs": [],
   "source": [
    "# On charge l’espace de travail Azure Machine Learning existant\n",
    "ws = Workspace.from_config()"
   ]
  },
  {
   "cell_type": "markdown",
   "id": "436b94e2",
   "metadata": {},
   "source": [
    "## Chargement du magasin de données"
   ]
  },
  {
   "cell_type": "code",
   "execution_count": null,
   "id": "93c35d2b",
   "metadata": {
    "gather": {
     "logged": 1635146260604
    }
   },
   "outputs": [],
   "source": [
    "# On charge le magasin de données par défaut\n",
    "datastore = ws.get_default_datastore()"
   ]
  },
  {
   "cell_type": "markdown",
   "id": "b55bb11f",
   "metadata": {},
   "source": [
    "# Exploration et analyse des données"
   ]
  },
  {
   "cell_type": "markdown",
   "id": "0e624d5b",
   "metadata": {},
   "source": [
    "## Fichiers clicks_hour_xxx.csv"
   ]
  },
  {
   "cell_type": "markdown",
   "id": "c6cbe77b",
   "metadata": {},
   "source": [
    "### Chargement des fichiers"
   ]
  },
  {
   "cell_type": "code",
   "execution_count": null,
   "id": "9beceec9",
   "metadata": {},
   "outputs": [],
   "source": [
    "clicks_dir = CSV_PATH + \"clicks\"\n",
    "\n",
    "# On ouvre les fichiers et on ajoute les données dans une liste\n",
    "clicks = []\n",
    "for i in tqdm(os.listdir(clicks_dir), leave=False):\n",
    "    tmp = pd.read_csv(os.path.join(clicks_dir, i))\n",
    "    clicks.append(tmp)\n",
    "    \n",
    "# On concatène toutes les données\n",
    "clicks = pd.concat(clicks)\n",
    "clicks.shape"
   ]
  },
  {
   "cell_type": "code",
   "execution_count": null,
   "id": "0a60eb2f",
   "metadata": {},
   "outputs": [],
   "source": [
    "clicks.head()"
   ]
  },
  {
   "cell_type": "markdown",
   "id": "4156515f",
   "metadata": {},
   "source": [
    "### Convertion des types"
   ]
  },
  {
   "cell_type": "code",
   "execution_count": null,
   "id": "0a1704f2",
   "metadata": {},
   "outputs": [],
   "source": [
    "# On met à jour le type des variables\n",
    "clicks = clicks.astype({\n",
    "    \"user_id\": np.uint64,\n",
    "    \"session_id\": np.uint64,\n",
    "    \"session_start\": np.uint64,\n",
    "    \"session_size\": np.uint16,\n",
    "    \"click_article_id\": np.uint64,\n",
    "    \"click_timestamp\": np.uint64,\n",
    "    \"click_environment\": np.uint8,\n",
    "    \"click_deviceGroup\": np.uint8,\n",
    "    \"click_os\": np.uint8,\n",
    "    \"click_country\": np.uint8,\n",
    "    \"click_region\": np.uint8,\n",
    "    \"click_referrer_type\": np.uint8\n",
    "})"
   ]
  },
  {
   "cell_type": "code",
   "execution_count": null,
   "id": "cf2bdeef",
   "metadata": {},
   "outputs": [],
   "source": [
    "# On convertit les timestamps en datetime\n",
    "clicks[\"session_start\"] = pd.to_datetime(clicks['session_start'], unit='ms')\n",
    "clicks[\"click_timestamp\"] = pd.to_datetime(clicks['click_timestamp'], unit='ms')"
   ]
  },
  {
   "cell_type": "code",
   "execution_count": null,
   "id": "c0b0e54b",
   "metadata": {},
   "outputs": [],
   "source": [
    "# On renomme les colonnes\n",
    "clicks = clicks.rename(columns={\n",
    "    \"session_start\": \"session_start_dt\",\n",
    "    \"click_timestamp\": \"click_dt\",\n",
    "})"
   ]
  },
  {
   "cell_type": "code",
   "execution_count": null,
   "id": "94a12d3d",
   "metadata": {},
   "outputs": [],
   "source": [
    "# On trie par ordre chronologique\n",
    "clicks = clicks.sort_values(\"click_dt\")"
   ]
  },
  {
   "cell_type": "markdown",
   "id": "6f25338d",
   "metadata": {},
   "source": [
    "### Indicateurs statistiques"
   ]
  },
  {
   "cell_type": "code",
   "execution_count": null,
   "id": "d600ffd1",
   "metadata": {},
   "outputs": [],
   "source": [
    "num_vars = [\n",
    "    \"session_size\",\n",
    "    \"session_start_dt\",\n",
    "    \"click_dt\"\n",
    "]\n",
    "\n",
    "cat_vars = [\n",
    "    \"user_id\",\n",
    "    \"session_id\",\n",
    "    \"click_article_id\",\n",
    "    \"click_environment\",\n",
    "    \"click_deviceGroup\",\n",
    "    \"click_os\",\n",
    "    \"click_country\",\n",
    "    \"click_region\",\n",
    "    \"click_referrer_type\"\n",
    "]"
   ]
  },
  {
   "cell_type": "code",
   "execution_count": null,
   "id": "4473a483",
   "metadata": {},
   "outputs": [],
   "source": [
    "clicks[num_vars].describe(\n",
    "    percentiles=[0.25, 0.5, 0.75, 0.95, 0.99],\n",
    "    datetime_is_numeric=True\n",
    ").T"
   ]
  },
  {
   "cell_type": "code",
   "execution_count": null,
   "id": "09cec9e6",
   "metadata": {},
   "outputs": [],
   "source": [
    "clicks[cat_vars].astype(\"category\").describe().T"
   ]
  },
  {
   "cell_type": "markdown",
   "id": "b37d9d12",
   "metadata": {},
   "source": [
    "### Longueur des sessions"
   ]
  },
  {
   "cell_type": "code",
   "execution_count": null,
   "id": "f2694c0a",
   "metadata": {},
   "outputs": [],
   "source": [
    "# On regroupe les données par session\n",
    "grp = clicks.groupby(\"session_id\")\n",
    "\n",
    "# On agrège les données\n",
    "grp_agg = grp.agg({\"session_start_dt\": \"min\", \"click_dt\": \"max\"})\n",
    "\n",
    "# On calcule le timedelta entre le dernier click et le début de la session\n",
    "grp_agg[\"session_length_td\"] = grp_agg[\"click_dt\"] - grp_agg[\"session_start_dt\"]\n",
    "grp_agg[\"session_length_td\"].describe(percentiles=[0.25, 0.5, 0.75, 0.95, 0.99])"
   ]
  },
  {
   "cell_type": "markdown",
   "id": "d0f68aeb",
   "metadata": {},
   "source": [
    "### Répartition des clicks par jour"
   ]
  },
  {
   "cell_type": "code",
   "execution_count": null,
   "id": "0359559a",
   "metadata": {},
   "outputs": [],
   "source": [
    "# On regroupe les données par jour\n",
    "grp = clicks.groupby(pd.Grouper(key=\"click_dt\", freq=\"D\"))\n",
    "\n",
    "# On agrège les données\n",
    "grp_agg = grp.agg({\n",
    "    \"click_dt\": lambda x: x.max() - x.min(),\n",
    "    \"click_article_id\": \"count\"\n",
    "})\n",
    "grp_agg = grp_agg.rename(columns={\n",
    "    \"click_dt\": \"click_delta\",\n",
    "    \"click_article_id\": \"click_nb\",\n",
    "})\n",
    "grp_agg"
   ]
  },
  {
   "cell_type": "code",
   "execution_count": null,
   "id": "ddbf9d08",
   "metadata": {},
   "outputs": [],
   "source": [
    "clicks = clicks[clicks[\"click_dt\"] < datetime(2017, 10, 17)]"
   ]
  },
  {
   "cell_type": "code",
   "execution_count": null,
   "id": "f2953d85",
   "metadata": {},
   "outputs": [],
   "source": [
    "fig, ax = plt.subplots(figsize=(16, 8))\n",
    "\n",
    "clicks[\"click_dt\"].dt.date.value_counts().sort_index().plot.bar(ax=ax)\n",
    "\n",
    "ax.set_title(\"Nombre de clicks par jour\")\n",
    "ax.set_xlabel(\"Jour\")\n",
    "ax.set_ylabel(\"Nombre de clicks\")\n",
    "\n",
    "plt.show()"
   ]
  },
  {
   "cell_type": "markdown",
   "id": "e0b01e39",
   "metadata": {},
   "source": [
    "### Nombre d'utilisateurs par jour"
   ]
  },
  {
   "cell_type": "code",
   "execution_count": null,
   "id": "7512f814",
   "metadata": {},
   "outputs": [],
   "source": [
    "# On regroupe les données par jour\n",
    "grp = clicks.groupby(pd.Grouper(key=\"click_dt\", freq=\"D\"))\n",
    "\n",
    "# On calcule l'ensemble cumulé des ids des utilisateurs par jour\n",
    "grp_agg = grp.agg({\"user_id\": lambda x: x.unique().tolist()}) \n",
    "grp_agg[\"user_id\"] = grp_agg[\"user_id\"].cumsum().apply(set)\n",
    "\n",
    "# On ajoute une colonne représentant le jour précédent\n",
    "grp_agg[\"prev_user_id\"] = grp_agg[\"user_id\"].shift(1)\n",
    "grp_agg[\"prev_user_id\"] = grp_agg[\"prev_user_id\"].fillna(\"\").apply(set)\n",
    "\n",
    "# On calcule le nombre d'utilisateur connus et inconnus par jour\n",
    "grp_agg[\"user_nb\"] = grp_agg[[\"user_id\", \"prev_user_id\"]].aggregate(lambda x: len(x[0] & x[1]), axis=1)\n",
    "grp_agg[\"new_user_nb\"] = (grp_agg[\"user_id\"] - grp_agg[\"prev_user_id\"]).apply(len)\n",
    "\n",
    "# On nettoie les colonnes et l'index pour l'affichage\n",
    "grp_agg = grp_agg[[\"user_nb\", \"new_user_nb\"]]\n",
    "grp_agg[\"%\"] = grp_agg[\"new_user_nb\"] / (grp_agg[\"new_user_nb\"] + grp_agg[\"user_nb\"])\n",
    "grp_agg = grp_agg.rename(columns={\n",
    "    \"user_nb\": \"nombre d'utilisateurs connus dans la journée\",\n",
    "    \"new_user_nb\": \"nombre d'utilisateurs inconnus dans la journée\",\n",
    "    \"%\": \"ratio d'inconnus\",\n",
    "})\n",
    "grp_agg.index = grp_agg.index.date\n",
    "grp_agg"
   ]
  },
  {
   "cell_type": "code",
   "execution_count": null,
   "id": "b99a227e",
   "metadata": {},
   "outputs": [],
   "source": [
    "fig, ax = plt.subplots(figsize=(16, 8))\n",
    "\n",
    "grp_agg[[\n",
    "    \"nombre d'utilisateurs connus dans la journée\",\n",
    "    \"nombre d'utilisateurs inconnus dans la journée\"\n",
    "]].plot.bar(ax=ax)\n",
    "\n",
    "ax.set_title(\"Nombre d'utilisateurs par jour avec mise à jour quotidienne des nouveaux utilisateurs\")\n",
    "ax.set_xlabel(\"Jour\")\n",
    "ax.set_ylabel(\"Nombre d'utilisateurs\")\n",
    "\n",
    "plt.show()"
   ]
  },
  {
   "cell_type": "code",
   "execution_count": null,
   "id": "6aae01f3",
   "metadata": {},
   "outputs": [],
   "source": [
    "del(clicks)\n",
    "gc.collect()"
   ]
  },
  {
   "cell_type": "markdown",
   "id": "e32746b9",
   "metadata": {},
   "source": [
    "## Fichier articles_metadata.csv"
   ]
  },
  {
   "cell_type": "code",
   "execution_count": null,
   "id": "48ddf850",
   "metadata": {},
   "outputs": [],
   "source": [
    "# On récupère les métadonnées des articles\n",
    "articles_metadata = pd.read_csv(CSV_PATH + \"articles_metadata.csv\")\n",
    "articles_metadata.shape"
   ]
  },
  {
   "cell_type": "code",
   "execution_count": null,
   "id": "28f84fd1",
   "metadata": {},
   "outputs": [],
   "source": [
    "articles_metadata.head()"
   ]
  },
  {
   "cell_type": "markdown",
   "id": "4be4b06d",
   "metadata": {},
   "source": [
    "### Convertion des types"
   ]
  },
  {
   "cell_type": "code",
   "execution_count": null,
   "id": "28f5c07c",
   "metadata": {},
   "outputs": [],
   "source": [
    "# On met à jour le type des variables\n",
    "articles_metadata = articles_metadata.astype({\n",
    "    \"article_id\": np.uint64,\n",
    "    \"category_id\": np.uint16,\n",
    "    \"created_at_ts\": np.uint64,\n",
    "    \"publisher_id\": np.uint8,\n",
    "    \"words_count\": np.uint16\n",
    "})"
   ]
  },
  {
   "cell_type": "code",
   "execution_count": null,
   "id": "1930e76d",
   "metadata": {},
   "outputs": [],
   "source": [
    "# On convertit les timestamps en datetime\n",
    "articles_metadata[\"created_at_ts\"] = pd.to_datetime(articles_metadata['created_at_ts'], unit='ms')"
   ]
  },
  {
   "cell_type": "code",
   "execution_count": null,
   "id": "caa29411",
   "metadata": {},
   "outputs": [],
   "source": [
    "# On renomme les colonnes\n",
    "articles_metadata = articles_metadata.rename(columns={\n",
    "    \"created_at_ts\": \"created_dt\",\n",
    "    \"words_count\": \"word_nb\",\n",
    "})"
   ]
  },
  {
   "cell_type": "markdown",
   "id": "3828fc6c",
   "metadata": {},
   "source": [
    "### Indicateurs statistiques"
   ]
  },
  {
   "cell_type": "code",
   "execution_count": null,
   "id": "1b9ae6d6",
   "metadata": {},
   "outputs": [],
   "source": [
    "num_vars = [\"word_nb\", \"created_dt\"]\n",
    "cat_vars = [\"article_id\", \"category_id\"]"
   ]
  },
  {
   "cell_type": "code",
   "execution_count": null,
   "id": "9b47d4a7",
   "metadata": {},
   "outputs": [],
   "source": [
    "articles_metadata[num_vars].describe(\n",
    "    percentiles=[0.25, 0.5, 0.75, 0.95, 0.99],\n",
    "    datetime_is_numeric=True\n",
    ").T"
   ]
  },
  {
   "cell_type": "code",
   "execution_count": null,
   "id": "041ef275",
   "metadata": {},
   "outputs": [],
   "source": [
    "articles_metadata[cat_vars].astype(\"category\").describe().T"
   ]
  },
  {
   "cell_type": "markdown",
   "id": "41c34ea5",
   "metadata": {},
   "source": [
    "### Suppression des variables inutiles"
   ]
  },
  {
   "cell_type": "code",
   "execution_count": null,
   "id": "4d2df124",
   "metadata": {},
   "outputs": [],
   "source": [
    "# On supprime les colonnes inutiles\n",
    "articles_metadata = articles_metadata.drop(columns=[\"publisher_id\"])"
   ]
  },
  {
   "cell_type": "markdown",
   "id": "a2de3597",
   "metadata": {},
   "source": [
    "### Nombre d'articles ajoutés par an"
   ]
  },
  {
   "cell_type": "code",
   "execution_count": null,
   "id": "def0fb61",
   "metadata": {},
   "outputs": [],
   "source": [
    "# On regroupe les données par an\n",
    "grp = articles_metadata.groupby(pd.Grouper(key=\"created_dt\", freq=\"Y\"))\n",
    "\n",
    "# On calcule le nombre d'articles ajoutés\n",
    "grp_agg = grp.agg({\"article_id\": \"count\"})\n",
    "\n",
    "# On nettoie les colonnes et l'index pour l'affichage\n",
    "grp_agg = grp_agg.rename(columns={\n",
    "    \"article_id\": \"nombre d'articles ajoutés dans l'année\"\n",
    "})\n",
    "grp_agg.index = grp_agg.index.year\n",
    "grp_agg"
   ]
  },
  {
   "cell_type": "code",
   "execution_count": null,
   "id": "d96b0361",
   "metadata": {},
   "outputs": [],
   "source": [
    "fig, ax = plt.subplots(figsize=(16, 8))\n",
    "\n",
    "grp_agg.plot.bar(ax=ax)\n",
    "\n",
    "ax.set_title(\"Nombre d'articles ajoutés par an\")\n",
    "ax.set_xlabel(\"Année\")\n",
    "ax.set_ylabel(\"Nombre d'articles\")\n",
    "\n",
    "plt.show()"
   ]
  },
  {
   "cell_type": "code",
   "execution_count": null,
   "id": "afd7b5c4",
   "metadata": {},
   "outputs": [],
   "source": [
    "del(articles_metadata)\n",
    "gc.collect()"
   ]
  },
  {
   "cell_type": "markdown",
   "id": "df795106",
   "metadata": {},
   "source": [
    "## Fichier articles_embeddings.pickle"
   ]
  },
  {
   "cell_type": "code",
   "execution_count": null,
   "id": "ca9f8f57",
   "metadata": {},
   "outputs": [],
   "source": [
    "# On récupère les embeddings des articles\n",
    "with open(PICKLE_PATH + \"articles_embeddings.pickle\", \"rb\") as f:\n",
    "    articles_embeddings = pickle.load(f)\n",
    "    \n",
    "# On les place dans un dataframe\n",
    "articles_embeddings = pd.DataFrame(\n",
    "    articles_embeddings.tolist(),\n",
    "    columns=[f\"emb_{i}\" for i in range(articles_embeddings.shape[1])]\n",
    ")\n",
    "articles_embeddings.shape"
   ]
  },
  {
   "cell_type": "code",
   "execution_count": null,
   "id": "fa9bc52f",
   "metadata": {},
   "outputs": [],
   "source": [
    "articles_embeddings.head()"
   ]
  },
  {
   "cell_type": "markdown",
   "id": "8b1cf994",
   "metadata": {},
   "source": [
    "### Indicateurs statistiques"
   ]
  },
  {
   "cell_type": "code",
   "execution_count": null,
   "id": "ac6e6580",
   "metadata": {},
   "outputs": [],
   "source": [
    "articles_embeddings.iloc[:10].T.describe().T"
   ]
  },
  {
   "cell_type": "code",
   "execution_count": null,
   "id": "41320a97",
   "metadata": {},
   "outputs": [],
   "source": [
    "del(articles_embeddings)\n",
    "gc.collect()"
   ]
  },
  {
   "cell_type": "markdown",
   "id": "1b2ea4b1",
   "metadata": {},
   "source": [
    "# Enregistrement des données dans le feature store"
   ]
  },
  {
   "cell_type": "markdown",
   "id": "6c5d6cde",
   "metadata": {},
   "source": [
    "## Chargement des données"
   ]
  },
  {
   "cell_type": "code",
   "execution_count": null,
   "id": "3d069e59",
   "metadata": {},
   "outputs": [],
   "source": [
    "clicks = get_clicks(CSV_PATH + \"clicks\")\n",
    "clicks = clicks[clicks[\"click_dt\"] < datetime(2017, 10, 17)]"
   ]
  },
  {
   "cell_type": "code",
   "execution_count": null,
   "id": "0bec3a23",
   "metadata": {},
   "outputs": [],
   "source": [
    "clicks.iloc[[0, 1, -2, -1]]"
   ]
  },
  {
   "cell_type": "code",
   "execution_count": null,
   "id": "7205a6bb",
   "metadata": {},
   "outputs": [],
   "source": [
    "articles = get_articles(\n",
    "    CSV_PATH + \"articles_metadata.csv\",\n",
    "    PICKLE_PATH + \"articles_embeddings.pickle\",\n",
    ")"
   ]
  },
  {
   "cell_type": "code",
   "execution_count": null,
   "id": "acc61c5e",
   "metadata": {},
   "outputs": [],
   "source": [
    "articles.iloc[[0, 1, -2, -1]]"
   ]
  },
  {
   "cell_type": "markdown",
   "id": "eb0aad0d",
   "metadata": {},
   "source": [
    "## Enregistrement dans le datastore"
   ]
  },
  {
   "cell_type": "code",
   "execution_count": null,
   "id": "25ab36a5",
   "metadata": {},
   "outputs": [],
   "source": [
    "# On enregistre les données jour par jour dans le datastore\n",
    "upload_clicks_in_datastore(clicks, datastore)"
   ]
  },
  {
   "cell_type": "code",
   "execution_count": null,
   "id": "593e2aea",
   "metadata": {},
   "outputs": [],
   "source": [
    "# On enregistre les données année par année dans le datastore\n",
    "upload_articles_in_datastore(articles, datastore)"
   ]
  },
  {
   "cell_type": "markdown",
   "id": "dcb9a8ee",
   "metadata": {},
   "source": [
    "## Enregistrement des datasets"
   ]
  },
  {
   "cell_type": "code",
   "execution_count": null,
   "id": "aada4c68",
   "metadata": {},
   "outputs": [],
   "source": [
    "# On crée/update le dataset avec tous les fichiers clicks présents dans le datastore\n",
    "clicks_ds = create_update_clicks_dataset(ws, datastore)"
   ]
  },
  {
   "cell_type": "code",
   "execution_count": null,
   "id": "96c2c502",
   "metadata": {},
   "outputs": [],
   "source": [
    "# On crée/update le dataset avec tous les fichiers articles présents dans le datastore\n",
    "articles_ds = create_update_articles_dataset(ws, datastore)"
   ]
  },
  {
   "cell_type": "markdown",
   "id": "751dfcc4",
   "metadata": {},
   "source": [
    "# Pipeline de transformation des données"
   ]
  },
  {
   "cell_type": "markdown",
   "id": "a07da135",
   "metadata": {},
   "source": [
    "## Extraction des données"
   ]
  },
  {
   "cell_type": "code",
   "execution_count": null,
   "id": "4db92650",
   "metadata": {},
   "outputs": [],
   "source": [
    "# On crée l'étape d'extraction des données du feature store\n",
    "(\n",
    "    data_extraction_step,\n",
    "    test_clicks_path,\n",
    "    valid_clicks_path,\n",
    "    train_clicks_path,\n",
    "    articles_path\n",
    ") = get_data_extraction_step(\n",
    "    ws,\n",
    "    SCRIPTS_PATH + \"data_transform\",\n",
    "    test_end_dt=datetime(2017, 10, 17),\n",
    "    test_day_nb=1,\n",
    "    valid_day_nb=1,\n",
    "    train_day_nb=5\n",
    ")"
   ]
  },
  {
   "cell_type": "markdown",
   "id": "d7efecc7",
   "metadata": {},
   "source": [
    "## Transformation des données"
   ]
  },
  {
   "cell_type": "markdown",
   "id": "d9973912",
   "metadata": {},
   "source": [
    "### Création des notation des articles"
   ]
  },
  {
   "cell_type": "code",
   "execution_count": null,
   "id": "31fab1b3",
   "metadata": {},
   "outputs": [],
   "source": [
    "# On crée les étapes de notation des articles\n",
    "test_user_article_ratings_step = get_user_article_ratings_step(\n",
    "    ws,\n",
    "    SCRIPTS_PATH + \"data_transform\",\n",
    "    clicks_path=test_clicks_path,\n",
    "    tn_nb=100,\n",
    "    dataset_name=\"test_user_article_ratings\"\n",
    ")\n",
    "\n",
    "valid_user_article_ratings_step = get_user_article_ratings_step(\n",
    "    ws,\n",
    "    SCRIPTS_PATH + \"data_transform\",\n",
    "    clicks_path=valid_clicks_path,\n",
    "    tn_nb=100,\n",
    "    dataset_name=\"valid_user_article_ratings\"\n",
    ")\n",
    "\n",
    "train_user_article_ratings_step = get_user_article_ratings_step(\n",
    "    ws,\n",
    "    SCRIPTS_PATH + \"data_transform\",\n",
    "    clicks_path=train_clicks_path,\n",
    "    tn_nb=None,\n",
    "    dataset_name=\"train_user_article_ratings\"\n",
    ")"
   ]
  },
  {
   "cell_type": "markdown",
   "id": "5d0af3c7",
   "metadata": {},
   "source": [
    "### Création des profils des articles"
   ]
  },
  {
   "cell_type": "code",
   "execution_count": null,
   "id": "800bb109",
   "metadata": {},
   "outputs": [],
   "source": [
    "# On crée l'étape de création des profils des articles\n",
    "article_profiles_step, article_profiles_path = get_article_profiles_step(\n",
    "    ws,\n",
    "    SCRIPTS_PATH + \"data_transform\",\n",
    "    clicks_path=train_clicks_path,\n",
    "    articles_path=articles_path,\n",
    "    dataset_name=\"article_profiles\"\n",
    ")"
   ]
  },
  {
   "cell_type": "markdown",
   "id": "779846df",
   "metadata": {},
   "source": [
    "### Création des profils des utilisateurs"
   ]
  },
  {
   "cell_type": "code",
   "execution_count": null,
   "id": "53cfc54e",
   "metadata": {},
   "outputs": [],
   "source": [
    "# On crée l'étape de création des profils des utilisateurs\n",
    "train_user_profiles_step = get_user_profiles_step(\n",
    "    ws,\n",
    "    SCRIPTS_PATH + \"data_transform\",\n",
    "    clicks_path=train_clicks_path,\n",
    "    article_profiles_path=article_profiles_path,\n",
    "    dataset_name=\"train_user_profiles\"\n",
    ")"
   ]
  },
  {
   "cell_type": "markdown",
   "id": "47663369",
   "metadata": {},
   "source": [
    "### Exécution du pipeline"
   ]
  },
  {
   "cell_type": "code",
   "execution_count": null,
   "id": "572c5e53",
   "metadata": {},
   "outputs": [],
   "source": [
    "# On soummet l'exécution du pipeline\n",
    "run = exp_submit(\n",
    "    ws,\n",
    "    steps=[\n",
    "        data_extraction_step,\n",
    "        test_user_article_ratings_step,\n",
    "        valid_user_article_ratings_step,\n",
    "        train_user_article_ratings_step,\n",
    "        article_profiles_step,\n",
    "        train_user_profiles_step\n",
    "    ],\n",
    "    regenerate_outputs=False,\n",
    "    wait_for_completion=False,\n",
    "    show_output=False\n",
    ")"
   ]
  },
  {
   "cell_type": "markdown",
   "id": "a9be91b7",
   "metadata": {},
   "source": [
    "# Vérification des données"
   ]
  },
  {
   "cell_type": "markdown",
   "id": "10e73ba6",
   "metadata": {},
   "source": [
    "## Chargement des datasets"
   ]
  },
  {
   "cell_type": "code",
   "execution_count": null,
   "id": "b934c17b",
   "metadata": {},
   "outputs": [],
   "source": [
    "# On charge les datasets\n",
    "test_user_article_ratings_ds = Dataset.get_by_name(ws, \"test_user_article_ratings\")\n",
    "valid_user_article_ratings_ds = Dataset.get_by_name(ws, \"valid_user_article_ratings\")\n",
    "train_user_article_ratings_ds = Dataset.get_by_name(ws, \"train_user_article_ratings\")\n",
    "\n",
    "article_profiles_ds = Dataset.get_by_name(ws, \"article_profiles\")\n",
    "train_user_profiles_ds = Dataset.get_by_name(ws, \"train_user_profiles\")"
   ]
  },
  {
   "cell_type": "code",
   "execution_count": null,
   "id": "14615a74",
   "metadata": {},
   "outputs": [],
   "source": [
    "# On charge les datasets dans des DataFrames\n",
    "test_user_article_ratings = test_user_article_ratings_ds.to_pandas_dataframe()\n",
    "valid_user_article_ratings = valid_user_article_ratings_ds.to_pandas_dataframe()\n",
    "train_user_article_ratings = train_user_article_ratings_ds.to_pandas_dataframe()\n",
    "\n",
    "article_profiles = article_profiles_ds.to_pandas_dataframe()\n",
    "train_user_profiles = train_user_profiles_ds.to_pandas_dataframe()"
   ]
  },
  {
   "cell_type": "markdown",
   "id": "b126125c",
   "metadata": {},
   "source": [
    "## Notation des articles"
   ]
  },
  {
   "cell_type": "code",
   "execution_count": null,
   "id": "ea768479",
   "metadata": {},
   "outputs": [],
   "source": [
    "test_user_article_ratings.iloc[[0, 1, -2, -1]]"
   ]
  },
  {
   "cell_type": "code",
   "execution_count": null,
   "id": "a2389239",
   "metadata": {},
   "outputs": [],
   "source": [
    "valid_user_article_ratings.iloc[[0, 1, -2, -1]]"
   ]
  },
  {
   "cell_type": "code",
   "execution_count": null,
   "id": "c68af614",
   "metadata": {},
   "outputs": [],
   "source": [
    "train_user_article_ratings.iloc[[0, 1, -2, -1]]"
   ]
  },
  {
   "cell_type": "markdown",
   "id": "f94acae2",
   "metadata": {},
   "source": [
    "## Profils des articles"
   ]
  },
  {
   "cell_type": "code",
   "execution_count": null,
   "id": "5d09adba",
   "metadata": {},
   "outputs": [],
   "source": [
    "article_profiles.iloc[[0, 1, -2, -1]]"
   ]
  },
  {
   "cell_type": "markdown",
   "id": "b7be28b5",
   "metadata": {},
   "source": [
    "## Profils des utilisateurs"
   ]
  },
  {
   "cell_type": "code",
   "execution_count": null,
   "id": "0ccadead",
   "metadata": {},
   "outputs": [],
   "source": [
    "train_user_profiles.iloc[[0, 1, -2, -1]]"
   ]
  }
 ],
 "metadata": {
  "kernel_info": {
   "name": "p9"
  },
  "kernelspec": {
   "display_name": "p9",
   "language": "python",
   "name": "p9"
  },
  "language_info": {
   "codemirror_mode": {
    "name": "ipython",
    "version": 3
   },
   "file_extension": ".py",
   "mimetype": "text/x-python",
   "name": "python",
   "nbconvert_exporter": "python",
   "pygments_lexer": "ipython3",
   "version": "3.8.8"
  },
  "nteract": {
   "version": "nteract-front-end@1.0.0"
  },
  "toc": {
   "base_numbering": 1,
   "nav_menu": {},
   "number_sections": true,
   "sideBar": true,
   "skip_h1_title": false,
   "title_cell": "Table of Contents",
   "title_sidebar": "Contents",
   "toc_cell": false,
   "toc_position": {
    "height": "calc(100% - 180px)",
    "left": "10px",
    "top": "150px",
    "width": "325px"
   },
   "toc_section_display": true,
   "toc_window_display": true
  }
 },
 "nbformat": 4,
 "nbformat_minor": 5
}
