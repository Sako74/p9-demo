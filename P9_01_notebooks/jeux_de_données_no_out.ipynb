{
 "cells": [
  {
   "cell_type": "markdown",
   "id": "cbda6545",
   "metadata": {
    "toc": true
   },
   "source": [
    "<h1>Sommaire<span class=\"tocSkip\"></span></h1>\n",
    "<div class=\"toc\"><ul class=\"toc-item\"><li><span><a href=\"#Introduction\" data-toc-modified-id=\"Introduction-1\"><span class=\"toc-item-num\">1&nbsp;&nbsp;</span>Introduction</a></span><ul class=\"toc-item\"><li><span><a href=\"#MVP\" data-toc-modified-id=\"MVP-1.1\"><span class=\"toc-item-num\">1.1&nbsp;&nbsp;</span>MVP</a></span></li><li><span><a href=\"#Architecture-MLOps\" data-toc-modified-id=\"Architecture-MLOps-1.2\"><span class=\"toc-item-num\">1.2&nbsp;&nbsp;</span>Architecture MLOps</a></span></li><li><span><a href=\"#Le-jeu-de-données\" data-toc-modified-id=\"Le-jeu-de-données-1.3\"><span class=\"toc-item-num\">1.3&nbsp;&nbsp;</span>Le jeu de données</a></span></li></ul></li><li><span><a href=\"#Chargement-des-ressources\" data-toc-modified-id=\"Chargement-des-ressources-2\"><span class=\"toc-item-num\">2&nbsp;&nbsp;</span>Chargement des ressources</a></span><ul class=\"toc-item\"><li><span><a href=\"#Chargement-du-workspace\" data-toc-modified-id=\"Chargement-du-workspace-2.1\"><span class=\"toc-item-num\">2.1&nbsp;&nbsp;</span>Chargement du workspace</a></span></li><li><span><a href=\"#Chargement-du-magasin-de-données\" data-toc-modified-id=\"Chargement-du-magasin-de-données-2.2\"><span class=\"toc-item-num\">2.2&nbsp;&nbsp;</span>Chargement du magasin de données</a></span></li></ul></li><li><span><a href=\"#Exploration-et-analyse-des-données\" data-toc-modified-id=\"Exploration-et-analyse-des-données-3\"><span class=\"toc-item-num\">3&nbsp;&nbsp;</span>Exploration et analyse des données</a></span><ul class=\"toc-item\"><li><span><a href=\"#Fichiers-clicks_hour_xxx.csv\" data-toc-modified-id=\"Fichiers-clicks_hour_xxx.csv-3.1\"><span class=\"toc-item-num\">3.1&nbsp;&nbsp;</span>Fichiers clicks_hour_xxx.csv</a></span><ul class=\"toc-item\"><li><span><a href=\"#Chargement-des-fichiers\" data-toc-modified-id=\"Chargement-des-fichiers-3.1.1\"><span class=\"toc-item-num\">3.1.1&nbsp;&nbsp;</span>Chargement des fichiers</a></span></li><li><span><a href=\"#Convertion-des-types\" data-toc-modified-id=\"Convertion-des-types-3.1.2\"><span class=\"toc-item-num\">3.1.2&nbsp;&nbsp;</span>Convertion des types</a></span></li><li><span><a href=\"#Longueur-des-sessions\" data-toc-modified-id=\"Longueur-des-sessions-3.1.3\"><span class=\"toc-item-num\">3.1.3&nbsp;&nbsp;</span>Longueur des sessions</a></span></li><li><span><a href=\"#Indicateurs-statistiques\" data-toc-modified-id=\"Indicateurs-statistiques-3.1.4\"><span class=\"toc-item-num\">3.1.4&nbsp;&nbsp;</span>Indicateurs statistiques</a></span><ul class=\"toc-item\"><li><span><a href=\"#Variables-de-type-numérique\" data-toc-modified-id=\"Variables-de-type-numérique-3.1.4.1\"><span class=\"toc-item-num\">3.1.4.1&nbsp;&nbsp;</span>Variables de type numérique</a></span></li><li><span><a href=\"#Variables-de-type-catégorie\" data-toc-modified-id=\"Variables-de-type-catégorie-3.1.4.2\"><span class=\"toc-item-num\">3.1.4.2&nbsp;&nbsp;</span>Variables de type catégorie</a></span></li></ul></li><li><span><a href=\"#Répartition-des-clicks-par-article\" data-toc-modified-id=\"Répartition-des-clicks-par-article-3.1.5\"><span class=\"toc-item-num\">3.1.5&nbsp;&nbsp;</span>Répartition des clicks par article</a></span></li><li><span><a href=\"#Répartition-des-clicks-par-utilisateur\" data-toc-modified-id=\"Répartition-des-clicks-par-utilisateur-3.1.6\"><span class=\"toc-item-num\">3.1.6&nbsp;&nbsp;</span>Répartition des clicks par utilisateur</a></span></li><li><span><a href=\"#Répartition-des-clicks-par-jour\" data-toc-modified-id=\"Répartition-des-clicks-par-jour-3.1.7\"><span class=\"toc-item-num\">3.1.7&nbsp;&nbsp;</span>Répartition des clicks par jour</a></span></li><li><span><a href=\"#Nombre-d'utilisateurs-par-jour\" data-toc-modified-id=\"Nombre-d'utilisateurs-par-jour-3.1.8\"><span class=\"toc-item-num\">3.1.8&nbsp;&nbsp;</span>Nombre d'utilisateurs par jour</a></span></li></ul></li><li><span><a href=\"#Fichier-articles_metadata.csv\" data-toc-modified-id=\"Fichier-articles_metadata.csv-3.2\"><span class=\"toc-item-num\">3.2&nbsp;&nbsp;</span>Fichier articles_metadata.csv</a></span><ul class=\"toc-item\"><li><span><a href=\"#Convertion-des-types\" data-toc-modified-id=\"Convertion-des-types-3.2.1\"><span class=\"toc-item-num\">3.2.1&nbsp;&nbsp;</span>Convertion des types</a></span></li><li><span><a href=\"#Indicateurs-statistiques\" data-toc-modified-id=\"Indicateurs-statistiques-3.2.2\"><span class=\"toc-item-num\">3.2.2&nbsp;&nbsp;</span>Indicateurs statistiques</a></span><ul class=\"toc-item\"><li><span><a href=\"#Variables-de-type-numérique\" data-toc-modified-id=\"Variables-de-type-numérique-3.2.2.1\"><span class=\"toc-item-num\">3.2.2.1&nbsp;&nbsp;</span>Variables de type numérique</a></span></li><li><span><a href=\"#Variables-de-type-catégorie\" data-toc-modified-id=\"Variables-de-type-catégorie-3.2.2.2\"><span class=\"toc-item-num\">3.2.2.2&nbsp;&nbsp;</span>Variables de type catégorie</a></span></li></ul></li><li><span><a href=\"#Distribution-du-nombre-d'articles-par-catégorie\" data-toc-modified-id=\"Distribution-du-nombre-d'articles-par-catégorie-3.2.3\"><span class=\"toc-item-num\">3.2.3&nbsp;&nbsp;</span>Distribution du nombre d'articles par catégorie</a></span></li><li><span><a href=\"#Suppression-des-variables-inutiles\" data-toc-modified-id=\"Suppression-des-variables-inutiles-3.2.4\"><span class=\"toc-item-num\">3.2.4&nbsp;&nbsp;</span>Suppression des variables inutiles</a></span></li><li><span><a href=\"#Nombre-d'articles-ajoutés-par-an\" data-toc-modified-id=\"Nombre-d'articles-ajoutés-par-an-3.2.5\"><span class=\"toc-item-num\">3.2.5&nbsp;&nbsp;</span>Nombre d'articles ajoutés par an</a></span></li></ul></li><li><span><a href=\"#Fichier-articles_embeddings.pickle\" data-toc-modified-id=\"Fichier-articles_embeddings.pickle-3.3\"><span class=\"toc-item-num\">3.3&nbsp;&nbsp;</span>Fichier articles_embeddings.pickle</a></span><ul class=\"toc-item\"><li><span><a href=\"#Indicateurs-statistiques\" data-toc-modified-id=\"Indicateurs-statistiques-3.3.1\"><span class=\"toc-item-num\">3.3.1&nbsp;&nbsp;</span>Indicateurs statistiques</a></span></li></ul></li></ul></li><li><span><a href=\"#Enregistrement-des-données-dans-le-feature-store\" data-toc-modified-id=\"Enregistrement-des-données-dans-le-feature-store-4\"><span class=\"toc-item-num\">4&nbsp;&nbsp;</span>Enregistrement des données dans le feature store</a></span><ul class=\"toc-item\"><li><span><a href=\"#Chargement-des-données\" data-toc-modified-id=\"Chargement-des-données-4.1\"><span class=\"toc-item-num\">4.1&nbsp;&nbsp;</span>Chargement des données</a></span></li><li><span><a href=\"#Enregistrement-dans-le-datastore\" data-toc-modified-id=\"Enregistrement-dans-le-datastore-4.2\"><span class=\"toc-item-num\">4.2&nbsp;&nbsp;</span>Enregistrement dans le datastore</a></span></li><li><span><a href=\"#Enregistrement-des-datasets\" data-toc-modified-id=\"Enregistrement-des-datasets-4.3\"><span class=\"toc-item-num\">4.3&nbsp;&nbsp;</span>Enregistrement des datasets</a></span></li></ul></li><li><span><a href=\"#Pipeline-de-transformation-des-données\" data-toc-modified-id=\"Pipeline-de-transformation-des-données-5\"><span class=\"toc-item-num\">5&nbsp;&nbsp;</span>Pipeline de transformation des données</a></span><ul class=\"toc-item\"><li><span><a href=\"#Extraction-des-données\" data-toc-modified-id=\"Extraction-des-données-5.1\"><span class=\"toc-item-num\">5.1&nbsp;&nbsp;</span>Extraction des données</a></span></li><li><span><a href=\"#Transformation-des-données\" data-toc-modified-id=\"Transformation-des-données-5.2\"><span class=\"toc-item-num\">5.2&nbsp;&nbsp;</span>Transformation des données</a></span><ul class=\"toc-item\"><li><span><a href=\"#Création-des-notation-des-articles\" data-toc-modified-id=\"Création-des-notation-des-articles-5.2.1\"><span class=\"toc-item-num\">5.2.1&nbsp;&nbsp;</span>Création des notation des articles</a></span></li><li><span><a href=\"#Création-des-profils-des-articles\" data-toc-modified-id=\"Création-des-profils-des-articles-5.2.2\"><span class=\"toc-item-num\">5.2.2&nbsp;&nbsp;</span>Création des profils des articles</a></span></li><li><span><a href=\"#Création-des-profils-des-utilisateurs\" data-toc-modified-id=\"Création-des-profils-des-utilisateurs-5.2.3\"><span class=\"toc-item-num\">5.2.3&nbsp;&nbsp;</span>Création des profils des utilisateurs</a></span></li><li><span><a href=\"#Exécution-du-pipeline\" data-toc-modified-id=\"Exécution-du-pipeline-5.2.4\"><span class=\"toc-item-num\">5.2.4&nbsp;&nbsp;</span>Exécution du pipeline</a></span></li></ul></li></ul></li><li><span><a href=\"#Vérification-des-données\" data-toc-modified-id=\"Vérification-des-données-6\"><span class=\"toc-item-num\">6&nbsp;&nbsp;</span>Vérification des données</a></span><ul class=\"toc-item\"><li><span><a href=\"#Chargement-des-datasets\" data-toc-modified-id=\"Chargement-des-datasets-6.1\"><span class=\"toc-item-num\">6.1&nbsp;&nbsp;</span>Chargement des datasets</a></span></li><li><span><a href=\"#Notation-des-articles\" data-toc-modified-id=\"Notation-des-articles-6.2\"><span class=\"toc-item-num\">6.2&nbsp;&nbsp;</span>Notation des articles</a></span></li><li><span><a href=\"#Profils-des-articles\" data-toc-modified-id=\"Profils-des-articles-6.3\"><span class=\"toc-item-num\">6.3&nbsp;&nbsp;</span>Profils des articles</a></span></li><li><span><a href=\"#Profils-des-utilisateurs\" data-toc-modified-id=\"Profils-des-utilisateurs-6.4\"><span class=\"toc-item-num\">6.4&nbsp;&nbsp;</span>Profils des utilisateurs</a></span></li></ul></li></ul></div>"
   ]
  },
  {
   "cell_type": "code",
   "execution_count": null,
   "id": "e432e142-126c-49cf-8096-b1a57ebf0aa4",
   "metadata": {
    "gather": {
     "logged": 1635146241144
    },
    "jupyter": {
     "outputs_hidden": false,
     "source_hidden": false
    },
    "nteract": {
     "transient": {
      "deleting": false
     }
    }
   },
   "outputs": [],
   "source": [
    "import sys\n",
    "\n",
    "import urllib\n",
    "import zipfile\n",
    "\n",
    "%load_ext autoreload\n",
    "%autoreload 2\n",
    "\n",
    "sys.path.append(\"../\")\n",
    "from P9_02_scripts.datasets import *\n",
    "from P9_02_scripts.data_transform.run import *\n",
    "from notebook import *"
   ]
  },
  {
   "cell_type": "markdown",
   "id": "2e64eeb8",
   "metadata": {},
   "source": [
    "# Introduction\n",
    "\n",
    "La mission de notre entreprise est d'encourager la lecture en recommandant des contenus pertinents à nos utilisateurs.\n",
    "\n",
    "Ce projet a pour but la réalisation d'un MVP d'un système de recommandation de contenu sous la forme d'une application mobile. Le repository Github de ce projet se trouve à l'adresse suivante : [p9-demo](https://github.com/Sako74/p9-demo).\n",
    "\n",
    "<img src=\"./data/gif/D%C3%A9monstration%20MVP%20mini.gif\" alt=\"Démonstration MVP\" style=\"width:200px;\"/>\n",
    "<p style=\"text-align: center; text-decoration: underline;\">Démonstration du MVP</p>"
   ]
  },
  {
   "cell_type": "markdown",
   "id": "be155699",
   "metadata": {},
   "source": [
    "## MVP\n",
    "\n",
    "Fonctions de l'application mobile :\n",
    "- Simulation de l’authentification d’un utilisateur.\n",
    "- Recommandation de 5 articles.\n",
    "\n",
    "Fonctions et contraintes du système de recommandation :\n",
    "- Utilisation des services de Azure.\n",
    "- Stockage des scripts sur Github.\n",
    "- Anticiper l’ajout de nouveaux utilisateurs.\n",
    "- Anticiper l’ajout de nouveaux articles."
   ]
  },
  {
   "cell_type": "markdown",
   "id": "5dfcd7b9",
   "metadata": {},
   "source": [
    "## Architecture MLOps\n",
    "\n",
    "Le MLOps est une culture et une pratique d'ingénierie ML qui vise à unifier le développement de systèmes ML et leur mise en opération (Ops). Appliquer le MLOps signifie que l'on vise l'automatisation et la surveillance de toutes les étapes de la construction d'un système de ML, y compris l'intégration, les tests, la publication, le déploiement et la gestion de l'infrastructure ([en savoir plus](https://cloud.google.com/architecture/mlops-continuous-delivery-and-automation-pipelines-in-machine-learning)).\n",
    "\n",
    "Nous avons donc mis en place une architecture MLOps afin de pouvoir itérer rapidement sur les versions de notre MVP.\n",
    "\n",
    "<img src=\"./data/img/Architecture%20MLOps.png\" alt=\"Architecture MLOps.png\" width=\"900\"/>\n",
    "<p style=\"text-align: center; text-decoration: underline;\">Architecture MLOps</p>\n",
    "\n",
    "Voici la description du code couleur :\n",
    "- Les blocks en gris sont ceux qui n'ont pas encore été implémentés.\n",
    "- Les blocks en bleu sont ceux qui utilisent des services Azure.\n",
    "- Les blocks en vert sont ceux qui utilisent Github.\n",
    "- Le block en jaune est l'application mobile développée en React par un prestataire."
   ]
  },
  {
   "attachments": {},
   "cell_type": "markdown",
   "id": "a5ea61a3",
   "metadata": {},
   "source": [
    "## Le jeu de données\n",
    "\n",
    "Nous allons utiliser un jeu de données fournit gratuitement par [Globo.com](https://www.globo.com/), un site de news brésilien. Ce jeu de données est disponible à l'adresse suivante : [jeu de données](https://www.kaggle.com/gspmoreira/news-portal-user-interactions-by-globocom). Commençons par télécharger nos données :"
   ]
  },
  {
   "cell_type": "code",
   "execution_count": null,
   "id": "36b56471",
   "metadata": {
    "gather": {
     "logged": 1635146167928
    }
   },
   "outputs": [],
   "source": [
    "# Lien vers le dataset\n",
    "DATASET_URL = \"https://s3-eu-west-1.amazonaws.com/static.oc-static.com/prod/courses/files/AI+Engineer/Project+9+-+R%C3%A9alisez+une+application+mobile+de+recommandation+de+contenu/news-portal-user-interactions-by-globocom.zip\"\n",
    "\n",
    "# Fichiers du dataset\n",
    "csv_files = [\"articles_metadata.csv\", \"clicks_sample.csv\"]\n",
    "zip_file = \"clicks\"\n",
    "pickle_file = \"articles_embeddings.pickle\"\n",
    "\n",
    "needed_files = csv_files + [zip_file] + [pickle_file]\n",
    "\n",
    "# Fichiers actuellement présents\n",
    "current_files = os.listdir(CSV_PATH)\n",
    "current_files += os.listdir(PICKLE_PATH)\n",
    "\n",
    "# On vérifie si tous les fichiers/dossiers sont bien présents\n",
    "if all([i in current_files for i in needed_files]):\n",
    "    print(\"Tous les fichiers sont bien présents.\")\n",
    "# Sinon on télécharge et on extrait les données\n",
    "else:\n",
    "    print(\"Téléchargement des données en cours...\")\n",
    "\n",
    "    # On télécharge le .zip dans un fichier temporaire et on extrait les données\n",
    "    tmp, _ = urllib.request.urlretrieve(DATASET_URL)\n",
    "    with zipfile.ZipFile(tmp, \"r\") as f:\n",
    "        # On extrait les fichiers csv\n",
    "        for i in csv_files:\n",
    "            f.extract(i, CSV_PATH)\n",
    "        \n",
    "        # On extrait le fichier zip contenant des fichiers csv\n",
    "        with f.open(zip_file + \".zip\") as f2:\n",
    "            with zipfile.ZipFile(f2, \"r\") as f3:\n",
    "                f3.extractall(CSV_PATH)\n",
    "        \n",
    "        # On extrait le fichier pickle\n",
    "        f.extract(pickle_file, PICKLE_PATH)\n",
    "\n",
    "    # On supprime le fichier temporaire\n",
    "    urllib.request.urlcleanup()\n",
    "    \n",
    "    print(\"Téléchargement des données terminé.\")"
   ]
  },
  {
   "cell_type": "markdown",
   "id": "cef86334",
   "metadata": {},
   "source": [
    "# Chargement des ressources\n",
    "\n",
    "Nous allons charger toutes les ressources Azure qui vont nous permettre de créer et d'enregistrer des jeux de données."
   ]
  },
  {
   "cell_type": "markdown",
   "id": "5aa680c9",
   "metadata": {},
   "source": [
    "## Chargement du workspace"
   ]
  },
  {
   "cell_type": "code",
   "execution_count": null,
   "id": "17ae64ec",
   "metadata": {
    "gather": {
     "logged": 1635146257971
    }
   },
   "outputs": [],
   "source": [
    "# On charge l’espace de travail Azure Machine Learning existant\n",
    "ws = Workspace.from_config()"
   ]
  },
  {
   "cell_type": "markdown",
   "id": "436b94e2",
   "metadata": {},
   "source": [
    "## Chargement du magasin de données"
   ]
  },
  {
   "cell_type": "code",
   "execution_count": null,
   "id": "93c35d2b",
   "metadata": {
    "gather": {
     "logged": 1635146260604
    }
   },
   "outputs": [],
   "source": [
    "# On charge le magasin de données par défaut\n",
    "datastore = ws.get_default_datastore()"
   ]
  },
  {
   "cell_type": "markdown",
   "id": "b55bb11f",
   "metadata": {},
   "source": [
    "# Exploration et analyse des données\n",
    "\n",
    "Cette partie représente le block `Data analysis` de notre architecture."
   ]
  },
  {
   "cell_type": "markdown",
   "id": "0e624d5b",
   "metadata": {},
   "source": [
    "## Fichiers clicks_hour_xxx.csv\n",
    "\n",
    "Le jeu de données est composé de fichiers de logs enregistrés heure par heure. Ils contiennent des informations sur les articles cliqués par les utilisateurs ainsi que des informations sur les sessions des utilisateurs."
   ]
  },
  {
   "cell_type": "markdown",
   "id": "c6cbe77b",
   "metadata": {},
   "source": [
    "### Chargement des fichiers"
   ]
  },
  {
   "cell_type": "code",
   "execution_count": null,
   "id": "9beceec9",
   "metadata": {},
   "outputs": [],
   "source": [
    "clicks_dir = CSV_PATH + \"clicks\"\n",
    "\n",
    "# On ouvre les fichiers et on ajoute les données dans une liste\n",
    "clicks = []\n",
    "for i in tqdm(os.listdir(clicks_dir), leave=False):\n",
    "    tmp = pd.read_csv(os.path.join(clicks_dir, i))\n",
    "    clicks.append(tmp)\n",
    "    \n",
    "# On concatène toutes les données\n",
    "clicks = pd.concat(clicks)\n",
    "clicks.shape"
   ]
  },
  {
   "cell_type": "markdown",
   "id": "d38b553a",
   "metadata": {},
   "source": [
    "Nous avons en tout 2.988.181 individus et 12 variables. Voyons un échantillon de ces données :"
   ]
  },
  {
   "cell_type": "code",
   "execution_count": null,
   "id": "0a60eb2f",
   "metadata": {},
   "outputs": [],
   "source": [
    "clicks.head()"
   ]
  },
  {
   "cell_type": "markdown",
   "id": "4156515f",
   "metadata": {},
   "source": [
    "### Convertion des types\n",
    "\n",
    "Nous allons commencer par convertir les types des variables. Certains types, comme `uint8`, ont été choisis afin d'optimiser la mémoire. Nous les avons sélectionné après avoir observé les indicateurs statistiques de ces variables."
   ]
  },
  {
   "cell_type": "code",
   "execution_count": null,
   "id": "0a1704f2",
   "metadata": {},
   "outputs": [],
   "source": [
    "# On met à jour le type des variables\n",
    "clicks = clicks.astype({\n",
    "    \"user_id\": np.uint64,\n",
    "    \"session_id\": np.uint64,\n",
    "    \"session_start\": np.uint64,\n",
    "    \"session_size\": np.uint16,\n",
    "    \"click_article_id\": np.uint64,\n",
    "    \"click_timestamp\": np.uint64,\n",
    "    \"click_environment\": np.uint8,\n",
    "    \"click_deviceGroup\": np.uint8,\n",
    "    \"click_os\": np.uint8,\n",
    "    \"click_country\": np.uint8,\n",
    "    \"click_region\": np.uint8,\n",
    "    \"click_referrer_type\": np.uint8\n",
    "})"
   ]
  },
  {
   "cell_type": "code",
   "execution_count": null,
   "id": "cf2bdeef",
   "metadata": {},
   "outputs": [],
   "source": [
    "# On convertit les timestamps en datetime\n",
    "clicks[\"session_start\"] = pd.to_datetime(clicks['session_start'], unit='ms')\n",
    "clicks[\"click_timestamp\"] = pd.to_datetime(clicks['click_timestamp'], unit='ms')"
   ]
  },
  {
   "cell_type": "code",
   "execution_count": null,
   "id": "c0b0e54b",
   "metadata": {},
   "outputs": [],
   "source": [
    "# On renomme les colonnes\n",
    "clicks = clicks.rename(columns={\n",
    "    \"session_start\": \"session_start_dt\",\n",
    "    \"click_timestamp\": \"click_dt\",\n",
    "})"
   ]
  },
  {
   "cell_type": "code",
   "execution_count": null,
   "id": "94a12d3d",
   "metadata": {},
   "outputs": [],
   "source": [
    "# On trie par ordre chronologique\n",
    "clicks = clicks.sort_values(\"click_dt\")"
   ]
  },
  {
   "cell_type": "markdown",
   "id": "faa4480e",
   "metadata": {},
   "source": [
    "### Longueur des sessions\n",
    "\n",
    "Voyons quelques indicateurs statistiques sur la longueur des sessions :"
   ]
  },
  {
   "cell_type": "code",
   "execution_count": null,
   "id": "76b48988",
   "metadata": {},
   "outputs": [],
   "source": [
    "# On regroupe les données par session\n",
    "grp = clicks.groupby(\"session_id\")\n",
    "\n",
    "# On agrège les données\n",
    "grp_agg = grp.agg({\"session_start_dt\": \"min\", \"click_dt\": \"max\"})\n",
    "\n",
    "# On calcule le timedelta entre le dernier click et le début de la session\n",
    "grp_agg[\"session_length_td\"] = grp_agg[\"click_dt\"] - grp_agg[\"session_start_dt\"]\n",
    "grp_agg[\"session_length_td\"].describe(percentiles=[0.25, 0.5, 0.75, 0.95, 0.99])"
   ]
  },
  {
   "cell_type": "markdown",
   "id": "902728d4",
   "metadata": {},
   "source": [
    "99% des sessions durent moins de 5h40 et 75% durent moins de 16min.\n",
    "\n",
    "La session la plus longue a duré 28 jours, il s'agit donc d'une valeur atypique."
   ]
  },
  {
   "cell_type": "markdown",
   "id": "6f25338d",
   "metadata": {},
   "source": [
    "### Indicateurs statistiques"
   ]
  },
  {
   "cell_type": "code",
   "execution_count": null,
   "id": "d600ffd1",
   "metadata": {},
   "outputs": [],
   "source": [
    "num_vars = [\n",
    "    \"session_size\",\n",
    "    \"session_start_dt\",\n",
    "    \"click_dt\"\n",
    "]\n",
    "\n",
    "cat_vars = [\n",
    "    \"user_id\",\n",
    "    \"session_id\",\n",
    "    \"click_article_id\",\n",
    "    \"click_environment\",\n",
    "    \"click_deviceGroup\",\n",
    "    \"click_os\",\n",
    "    \"click_country\",\n",
    "    \"click_region\",\n",
    "    \"click_referrer_type\"\n",
    "]"
   ]
  },
  {
   "cell_type": "markdown",
   "id": "919e66a7",
   "metadata": {},
   "source": [
    "#### Variables de type numérique\n",
    "\n",
    "Voici le tableau des indicateurs statistiques des variables de type numérique :"
   ]
  },
  {
   "cell_type": "code",
   "execution_count": null,
   "id": "4473a483",
   "metadata": {},
   "outputs": [],
   "source": [
    "clicks[num_vars].describe(\n",
    "    percentiles=[0.25, 0.5, 0.75, 0.95, 0.99],\n",
    "    datetime_is_numeric=True\n",
    ").T"
   ]
  },
  {
   "cell_type": "markdown",
   "id": "0d5a8e39",
   "metadata": {},
   "source": [
    "En moyenne, les utilisateurs cliquent sur 4 articles par session.\n",
    "\n",
    "99% des clicks ont été effectués avant le 16/10/2017 à 23h."
   ]
  },
  {
   "cell_type": "markdown",
   "id": "bb02463a",
   "metadata": {},
   "source": [
    "#### Variables de type catégorie\n",
    "\n",
    "Voici le tableau des indicateurs statistiques des variables de type catégorie :"
   ]
  },
  {
   "cell_type": "code",
   "execution_count": null,
   "id": "09cec9e6",
   "metadata": {},
   "outputs": [],
   "source": [
    "clicks[cat_vars].astype(\"category\").describe().T"
   ]
  },
  {
   "cell_type": "markdown",
   "id": "7913fb68",
   "metadata": {},
   "source": [
    "Il y a 322.897 utilisateurs différents qui ont cliqués sur 46.033 articles différents.\n",
    "\n",
    "Un des utilisateurs a cliqué sur 1232 articles.\n",
    "\n",
    "Un des articles a été cliqué 37213 fois."
   ]
  },
  {
   "cell_type": "markdown",
   "id": "7a6fc94e",
   "metadata": {},
   "source": [
    "### Répartition des clicks par article"
   ]
  },
  {
   "cell_type": "code",
   "execution_count": null,
   "id": "c09e4706",
   "metadata": {},
   "outputs": [],
   "source": [
    "# On regroupe les données par article\n",
    "grp = clicks.groupby(\"click_article_id\")\n",
    "\n",
    "# On agrège les données\n",
    "grp_agg = grp.agg({\"click_dt\": \"count\"})\n",
    "grp_agg = grp_agg.rename(columns={\"click_dt\": \"click_nb\"})\n",
    "\n",
    "# On affiche les indicateurs statistiques\n",
    "grp_agg.describe(percentiles=[0.25, 0.5, 0.75, 0.95, 0.99]).T"
   ]
  },
  {
   "cell_type": "markdown",
   "id": "2cc3eabb",
   "metadata": {},
   "source": [
    "99% des articles ont été cliqués moins de 1204 fois et 75% moins de 6 fois.\n",
    "\n",
    "L'article qui a été cliqué 37213 fois est une valeur atypique. Il s'agit peut-être d'un article qui a fait le buzz..."
   ]
  },
  {
   "cell_type": "code",
   "execution_count": null,
   "id": "5359339d",
   "metadata": {},
   "outputs": [],
   "source": [
    "fig, ax = plt.subplots(figsize=(16, 8))\n",
    "\n",
    "grp_agg.plot.hist(bins=50, ax=ax)\n",
    "\n",
    "ax.set_title(\"Distribution des clicks par article\")\n",
    "ax.set_xlabel(\"Nombre de clicks par article\")\n",
    "ax.set_ylabel(\"Effectif (log)\")\n",
    "ax.set_yscale(\"log\")\n",
    "\n",
    "plt.show()"
   ]
  },
  {
   "cell_type": "markdown",
   "id": "b194fe58",
   "metadata": {},
   "source": [
    "### Répartition des clicks par utilisateur"
   ]
  },
  {
   "cell_type": "code",
   "execution_count": null,
   "id": "98c5f999",
   "metadata": {},
   "outputs": [],
   "source": [
    "# On regroupe les données par article\n",
    "grp = clicks.groupby(\"user_id\")\n",
    "\n",
    "# On agrège les données\n",
    "grp_agg = grp.agg({\"click_dt\": \"count\"})\n",
    "grp_agg = grp_agg.rename(columns={\"click_dt\": \"click_nb\"})\n",
    "\n",
    "# On affiche les indicateurs statistiques\n",
    "grp_agg.describe(percentiles=[0.25, 0.5, 0.75, 0.95, 0.99]).T"
   ]
  },
  {
   "cell_type": "markdown",
   "id": "b4271427",
   "metadata": {},
   "source": [
    "99% des articles ont été cliqués moins de 67 fois et 75% moins de 10 fois.\n",
    "\n",
    "L'utilisateur qui a été cliqué 1232 fois est une valeur atypique."
   ]
  },
  {
   "cell_type": "code",
   "execution_count": null,
   "id": "a4b47d04",
   "metadata": {},
   "outputs": [],
   "source": [
    "fig, ax = plt.subplots(figsize=(16, 8))\n",
    "\n",
    "grp_agg.plot.hist(bins=50, ax=ax)\n",
    "\n",
    "ax.set_title(\"Distribution des clicks par utilisateur\")\n",
    "ax.set_xlabel(\"Nombre de clicks par utilisateur\")\n",
    "ax.set_ylabel(\"Effectif (log)\")\n",
    "ax.set_yscale(\"log\")\n",
    "\n",
    "plt.show()"
   ]
  },
  {
   "cell_type": "markdown",
   "id": "d0f68aeb",
   "metadata": {},
   "source": [
    "### Répartition des clicks par jour"
   ]
  },
  {
   "cell_type": "code",
   "execution_count": null,
   "id": "0359559a",
   "metadata": {},
   "outputs": [],
   "source": [
    "# On regroupe les données par jour\n",
    "grp = clicks.groupby(pd.Grouper(key=\"click_dt\", freq=\"D\"))\n",
    "\n",
    "# On agrège les données\n",
    "grp_agg = grp.agg({\n",
    "    \"click_dt\": lambda x: x.max() - x.min(),\n",
    "    \"click_article_id\": \"count\"\n",
    "})\n",
    "grp_agg = grp_agg.rename(columns={\n",
    "    \"click_dt\": \"click_delta\",\n",
    "    \"click_article_id\": \"click_nb\",\n",
    "})\n",
    "grp_agg"
   ]
  },
  {
   "cell_type": "markdown",
   "id": "8773a544",
   "metadata": {},
   "source": [
    "On constate qu'à partir du 17/10 il y a beaucoup moins de cliques par jours.\n",
    "\n",
    "Afin de conserver un nombre de cliques par jour conséquent, nous n'allons travailler que sur la période du 01/10 au 16/10 :"
   ]
  },
  {
   "cell_type": "code",
   "execution_count": null,
   "id": "ddbf9d08",
   "metadata": {},
   "outputs": [],
   "source": [
    "# On supprime les jours qui ont trop peu de cliques\n",
    "clicks = clicks[clicks[\"click_dt\"] < datetime(2017, 10, 17)]"
   ]
  },
  {
   "cell_type": "code",
   "execution_count": null,
   "id": "f2953d85",
   "metadata": {},
   "outputs": [],
   "source": [
    "fig, ax = plt.subplots(figsize=(16, 8))\n",
    "\n",
    "clicks[\"click_dt\"].dt.date.value_counts().sort_index().plot.bar(ax=ax)\n",
    "\n",
    "ax.set_title(\"Nombre de clicks par jour\")\n",
    "ax.set_xlabel(\"Jour\")\n",
    "ax.set_ylabel(\"Nombre de clicks\")\n",
    "\n",
    "plt.show()"
   ]
  },
  {
   "cell_type": "markdown",
   "id": "55a38231",
   "metadata": {},
   "source": [
    "Nous avons au minimum 92.163 cliques dans une journée. Il s'agit d'un nombre conséquent et nous pourrons donc splitter nos données en fonction des jours."
   ]
  },
  {
   "cell_type": "markdown",
   "id": "e0b01e39",
   "metadata": {},
   "source": [
    "### Nombre d'utilisateurs par jour\n",
    "\n",
    "Les systèmes de recommandation sont confrontés au cold start problem. Par exemple, quoi recommander à un nouvel utilisateur dont on a que très peu d'information ?\n",
    "\n",
    "Nous allons donc observer l'évolution du nombre de nouveaux utilisateurs jour par jour :"
   ]
  },
  {
   "cell_type": "code",
   "execution_count": null,
   "id": "7512f814",
   "metadata": {},
   "outputs": [],
   "source": [
    "# On regroupe les données par jour\n",
    "grp = clicks.groupby(pd.Grouper(key=\"click_dt\", freq=\"D\"))\n",
    "\n",
    "# On calcule l'ensemble cumulé des ids des utilisateurs par jour\n",
    "grp_agg = grp.agg({\"user_id\": lambda x: x.unique().tolist()}) \n",
    "grp_agg[\"user_id\"] = grp_agg[\"user_id\"].cumsum().apply(set)\n",
    "\n",
    "# On ajoute une colonne représentant le jour précédent\n",
    "grp_agg[\"prev_user_id\"] = grp_agg[\"user_id\"].shift(1)\n",
    "grp_agg[\"prev_user_id\"] = grp_agg[\"prev_user_id\"].fillna(\"\").apply(set)\n",
    "\n",
    "# On calcule le nombre d'utilisateur connus et inconnus par jour\n",
    "grp_agg[\"user_nb\"] = grp_agg[[\"user_id\", \"prev_user_id\"]].aggregate(lambda x: len(x[0] & x[1]), axis=1)\n",
    "grp_agg[\"new_user_nb\"] = (grp_agg[\"user_id\"] - grp_agg[\"prev_user_id\"]).apply(len)\n",
    "\n",
    "# On nettoie les colonnes et l'index pour l'affichage\n",
    "grp_agg = grp_agg[[\"user_nb\", \"new_user_nb\"]]\n",
    "grp_agg[\"%\"] = grp_agg[\"new_user_nb\"] / (grp_agg[\"new_user_nb\"] + grp_agg[\"user_nb\"])\n",
    "grp_agg = grp_agg.rename(columns={\n",
    "    \"user_nb\": \"nombre d'utilisateurs connus dans la journée\",\n",
    "    \"new_user_nb\": \"nombre d'utilisateurs inconnus dans la journée\",\n",
    "    \"%\": \"ratio d'inconnus\",\n",
    "})\n",
    "grp_agg.index = grp_agg.index.date\n",
    "grp_agg"
   ]
  },
  {
   "cell_type": "markdown",
   "id": "df13a206",
   "metadata": {},
   "source": [
    "Le premier jour, tous les utilisateurs sont considérés comme inconnus.\n",
    "\n",
    "Au bout de 5 jours, nous avons déjà moins de 10% d'utilisateurs inconnus."
   ]
  },
  {
   "cell_type": "code",
   "execution_count": null,
   "id": "b99a227e",
   "metadata": {},
   "outputs": [],
   "source": [
    "fig, ax = plt.subplots(figsize=(16, 8))\n",
    "\n",
    "grp_agg[[\n",
    "    \"nombre d'utilisateurs connus dans la journée\",\n",
    "    \"nombre d'utilisateurs inconnus dans la journée\"\n",
    "]].plot.bar(ax=ax)\n",
    "\n",
    "ax.set_title(\"Nombre d'utilisateurs par jour avec mise à jour quotidienne des nouveaux utilisateurs\")\n",
    "ax.set_xlabel(\"Jour\")\n",
    "ax.set_ylabel(\"Nombre d'utilisateurs\")\n",
    "\n",
    "plt.show()"
   ]
  },
  {
   "cell_type": "code",
   "execution_count": null,
   "id": "6aae01f3",
   "metadata": {},
   "outputs": [],
   "source": [
    "# On nettoie les ressources\n",
    "del(clicks)\n",
    "gc.collect()"
   ]
  },
  {
   "cell_type": "markdown",
   "id": "e32746b9",
   "metadata": {},
   "source": [
    "## Fichier articles_metadata.csv\n",
    "\n",
    "Ce fichier contient des informations sur les articles."
   ]
  },
  {
   "cell_type": "code",
   "execution_count": null,
   "id": "48ddf850",
   "metadata": {},
   "outputs": [],
   "source": [
    "# On récupère les métadonnées des articles\n",
    "articles_metadata = pd.read_csv(CSV_PATH + \"articles_metadata.csv\")\n",
    "articles_metadata.shape"
   ]
  },
  {
   "cell_type": "markdown",
   "id": "8b44620f",
   "metadata": {},
   "source": [
    "Nous avons 364.047 individus et 5 variables. Voyons un échantillon de ces données :"
   ]
  },
  {
   "cell_type": "code",
   "execution_count": null,
   "id": "28f84fd1",
   "metadata": {},
   "outputs": [],
   "source": [
    "articles_metadata.head()"
   ]
  },
  {
   "cell_type": "markdown",
   "id": "4be4b06d",
   "metadata": {},
   "source": [
    "### Convertion des types\n",
    "\n",
    "Nous allons commencer par convertir les types des variables. Certains types, comme `uint8`, ont été choisis afin d'optimiser la mémoire. Nous les avons sélectionné après avoir observé les indicateurs statistiques de ces variables."
   ]
  },
  {
   "cell_type": "code",
   "execution_count": null,
   "id": "28f5c07c",
   "metadata": {},
   "outputs": [],
   "source": [
    "# On met à jour le type des variables\n",
    "articles_metadata = articles_metadata.astype({\n",
    "    \"article_id\": np.uint64,\n",
    "    \"category_id\": np.uint16,\n",
    "    \"created_at_ts\": np.uint64,\n",
    "    \"publisher_id\": np.uint8,\n",
    "    \"words_count\": np.uint16\n",
    "})"
   ]
  },
  {
   "cell_type": "code",
   "execution_count": null,
   "id": "1930e76d",
   "metadata": {},
   "outputs": [],
   "source": [
    "# On convertit les timestamps en datetime\n",
    "articles_metadata[\"created_at_ts\"] = pd.to_datetime(articles_metadata['created_at_ts'], unit='ms')"
   ]
  },
  {
   "cell_type": "code",
   "execution_count": null,
   "id": "caa29411",
   "metadata": {},
   "outputs": [],
   "source": [
    "# On renomme les colonnes\n",
    "articles_metadata = articles_metadata.rename(columns={\n",
    "    \"created_at_ts\": \"created_dt\",\n",
    "    \"words_count\": \"word_nb\",\n",
    "})"
   ]
  },
  {
   "cell_type": "markdown",
   "id": "3828fc6c",
   "metadata": {},
   "source": [
    "### Indicateurs statistiques"
   ]
  },
  {
   "cell_type": "code",
   "execution_count": null,
   "id": "1b9ae6d6",
   "metadata": {},
   "outputs": [],
   "source": [
    "num_vars = [\"word_nb\", \"created_dt\"]\n",
    "cat_vars = [\"article_id\", \"category_id\"]"
   ]
  },
  {
   "cell_type": "markdown",
   "id": "c1e4a7ee",
   "metadata": {},
   "source": [
    "#### Variables de type numérique\n",
    "\n",
    "Voici le tableau des indicateurs statistiques des variables de type numérique :"
   ]
  },
  {
   "cell_type": "code",
   "execution_count": null,
   "id": "9b47d4a7",
   "metadata": {},
   "outputs": [],
   "source": [
    "articles_metadata[num_vars].describe(\n",
    "    percentiles=[0.25, 0.5, 0.70, 0.95, 0.99],\n",
    "    datetime_is_numeric=True\n",
    ").T"
   ]
  },
  {
   "cell_type": "markdown",
   "id": "2de2d54a",
   "metadata": {},
   "source": [
    "En moyenne, les articles sont composés de 191 mots. Il s'agit donc d'articles très courts.\n",
    "\n",
    "70% ont été créés avant le 13/10/2017 et ont donc potentiellement été visibles par les utilisateurs de notre jeu de données."
   ]
  },
  {
   "cell_type": "markdown",
   "id": "4caaae3a",
   "metadata": {},
   "source": [
    "#### Variables de type catégorie\n",
    "\n",
    "Voici le tableau des indicateurs statistiques des variables de type catégorie :"
   ]
  },
  {
   "cell_type": "code",
   "execution_count": null,
   "id": "041ef275",
   "metadata": {},
   "outputs": [],
   "source": [
    "articles_metadata[cat_vars].astype(\"category\").describe().T"
   ]
  },
  {
   "cell_type": "markdown",
   "id": "a66a89e8",
   "metadata": {},
   "source": [
    "Il y a 461 catégories différentes."
   ]
  },
  {
   "cell_type": "markdown",
   "id": "4c001340",
   "metadata": {},
   "source": [
    "### Distribution du nombre d'articles par catégorie"
   ]
  },
  {
   "cell_type": "code",
   "execution_count": null,
   "id": "ca48e3f9",
   "metadata": {},
   "outputs": [],
   "source": [
    "# On regroupe les données par catégorie\n",
    "grp = articles_metadata.groupby(\"category_id\")\n",
    "\n",
    "# On agrège les données\n",
    "grp_agg = grp.agg({\"article_id\": \"count\"})\n",
    "grp_agg = grp_agg.rename(columns={\"article_id\": \"article_nb\"})\n",
    "\n",
    "# On affiche les indicateurs statistiques\n",
    "grp_agg.describe(percentiles=[0.25, 0.5, 0.75, 0.95, 0.99]).T"
   ]
  },
  {
   "cell_type": "code",
   "execution_count": null,
   "id": "5e196de9",
   "metadata": {},
   "outputs": [],
   "source": [
    "grp_agg[\"ratio\"] = grp_agg[\"article_nb\"] / grp_agg[\"article_nb\"].sum()"
   ]
  },
  {
   "cell_type": "code",
   "execution_count": null,
   "id": "9f404319",
   "metadata": {},
   "outputs": [],
   "source": [
    "grp_agg.sort_values(\"article_nb\", ascending=False)"
   ]
  },
  {
   "cell_type": "code",
   "execution_count": null,
   "id": "4f7406cd",
   "metadata": {},
   "outputs": [],
   "source": [
    "fig, ax = plt.subplots(figsize=(16, 8))\n",
    "\n",
    "grp_agg.plot.hist(bins=50, ax=ax)\n",
    "\n",
    "ax.set_title(\"Distribution du nombre d'articles par catégorie\")\n",
    "ax.set_xlabel(\"Catégorie\")\n",
    "ax.set_ylabel(\"Effectif (log)\")\n",
    "# ax.set_yscale(\"log\")\n",
    "\n",
    "plt.show()"
   ]
  },
  {
   "cell_type": "markdown",
   "id": "41c34ea5",
   "metadata": {},
   "source": [
    "### Suppression des variables inutiles"
   ]
  },
  {
   "cell_type": "code",
   "execution_count": null,
   "id": "4d2df124",
   "metadata": {},
   "outputs": [],
   "source": [
    "# On supprime les colonnes inutiles\n",
    "articles_metadata = articles_metadata.drop(columns=[\"publisher_id\"])"
   ]
  },
  {
   "cell_type": "markdown",
   "id": "a2de3597",
   "metadata": {},
   "source": [
    "### Nombre d'articles ajoutés par an"
   ]
  },
  {
   "cell_type": "code",
   "execution_count": null,
   "id": "def0fb61",
   "metadata": {},
   "outputs": [],
   "source": [
    "# On regroupe les données par an\n",
    "grp = articles_metadata.groupby(pd.Grouper(key=\"created_dt\", freq=\"Y\"))\n",
    "\n",
    "# On calcule le nombre d'articles ajoutés\n",
    "grp_agg = grp.agg({\"article_id\": \"count\"})\n",
    "\n",
    "# On nettoie les colonnes et l'index pour l'affichage\n",
    "grp_agg = grp_agg.rename(columns={\n",
    "    \"article_id\": \"nombre d'articles ajoutés dans l'année\"\n",
    "})\n",
    "grp_agg.index = grp_agg.index.year\n",
    "grp_agg"
   ]
  },
  {
   "cell_type": "code",
   "execution_count": null,
   "id": "d96b0361",
   "metadata": {},
   "outputs": [],
   "source": [
    "fig, ax = plt.subplots(figsize=(16, 8))\n",
    "\n",
    "grp_agg.plot.bar(ax=ax)\n",
    "\n",
    "ax.set_title(\"Nombre d'articles ajoutés par an\")\n",
    "ax.set_xlabel(\"Année\")\n",
    "ax.set_ylabel(\"Nombre d'articles\")\n",
    "\n",
    "plt.show()"
   ]
  },
  {
   "cell_type": "code",
   "execution_count": null,
   "id": "afd7b5c4",
   "metadata": {},
   "outputs": [],
   "source": [
    "# On nettoie les ressources\n",
    "del(articles_metadata)\n",
    "gc.collect()"
   ]
  },
  {
   "cell_type": "markdown",
   "id": "df795106",
   "metadata": {},
   "source": [
    "## Fichier articles_embeddings.pickle"
   ]
  },
  {
   "cell_type": "code",
   "execution_count": null,
   "id": "ca9f8f57",
   "metadata": {},
   "outputs": [],
   "source": [
    "# On récupère les embeddings des articles\n",
    "with open(PICKLE_PATH + \"articles_embeddings.pickle\", \"rb\") as f:\n",
    "    articles_embeddings = pickle.load(f)\n",
    "    \n",
    "# On les place dans un dataframe\n",
    "articles_embeddings = pd.DataFrame(\n",
    "    articles_embeddings.tolist(),\n",
    "    columns=[f\"emb_{i}\" for i in range(articles_embeddings.shape[1])]\n",
    ")\n",
    "articles_embeddings.shape"
   ]
  },
  {
   "cell_type": "code",
   "execution_count": null,
   "id": "fa9bc52f",
   "metadata": {},
   "outputs": [],
   "source": [
    "articles_embeddings.head()"
   ]
  },
  {
   "cell_type": "markdown",
   "id": "8b1cf994",
   "metadata": {},
   "source": [
    "### Indicateurs statistiques"
   ]
  },
  {
   "cell_type": "code",
   "execution_count": null,
   "id": "ac6e6580",
   "metadata": {},
   "outputs": [],
   "source": [
    "articles_embeddings.iloc[:10].T.describe().T"
   ]
  },
  {
   "cell_type": "code",
   "execution_count": null,
   "id": "41320a97",
   "metadata": {},
   "outputs": [],
   "source": [
    "# On nettoie les ressources\n",
    "del(articles_embeddings)\n",
    "gc.collect()"
   ]
  },
  {
   "cell_type": "markdown",
   "id": "1b2ea4b1",
   "metadata": {},
   "source": [
    "# Enregistrement des données dans le feature store"
   ]
  },
  {
   "cell_type": "markdown",
   "id": "6c5d6cde",
   "metadata": {},
   "source": [
    "## Chargement des données"
   ]
  },
  {
   "cell_type": "code",
   "execution_count": null,
   "id": "3d069e59",
   "metadata": {},
   "outputs": [],
   "source": [
    "clicks = get_clicks(CSV_PATH + \"clicks\")\n",
    "clicks = clicks[clicks[\"click_dt\"] < datetime(2017, 10, 17)]"
   ]
  },
  {
   "cell_type": "code",
   "execution_count": null,
   "id": "0bec3a23",
   "metadata": {},
   "outputs": [],
   "source": [
    "clicks.iloc[[0, 1, -2, -1]]"
   ]
  },
  {
   "cell_type": "code",
   "execution_count": null,
   "id": "7205a6bb",
   "metadata": {},
   "outputs": [],
   "source": [
    "articles = get_articles(\n",
    "    CSV_PATH + \"articles_metadata.csv\",\n",
    "    PICKLE_PATH + \"articles_embeddings.pickle\",\n",
    ")"
   ]
  },
  {
   "cell_type": "code",
   "execution_count": null,
   "id": "acc61c5e",
   "metadata": {},
   "outputs": [],
   "source": [
    "articles.iloc[[0, 1, -2, -1]]"
   ]
  },
  {
   "cell_type": "markdown",
   "id": "eb0aad0d",
   "metadata": {},
   "source": [
    "## Enregistrement dans le datastore"
   ]
  },
  {
   "cell_type": "code",
   "execution_count": null,
   "id": "25ab36a5",
   "metadata": {},
   "outputs": [],
   "source": [
    "# On enregistre les données jour par jour dans le datastore\n",
    "upload_clicks_in_datastore(clicks, datastore)"
   ]
  },
  {
   "cell_type": "code",
   "execution_count": null,
   "id": "593e2aea",
   "metadata": {},
   "outputs": [],
   "source": [
    "# On enregistre les données année par année dans le datastore\n",
    "upload_articles_in_datastore(articles, datastore)"
   ]
  },
  {
   "cell_type": "markdown",
   "id": "dcb9a8ee",
   "metadata": {},
   "source": [
    "## Enregistrement des datasets"
   ]
  },
  {
   "cell_type": "code",
   "execution_count": null,
   "id": "aada4c68",
   "metadata": {},
   "outputs": [],
   "source": [
    "# On crée/update le dataset avec tous les fichiers clicks présents dans le datastore\n",
    "clicks_ds = create_update_clicks_dataset(ws, datastore)"
   ]
  },
  {
   "cell_type": "code",
   "execution_count": null,
   "id": "96c2c502",
   "metadata": {},
   "outputs": [],
   "source": [
    "# On crée/update le dataset avec tous les fichiers articles présents dans le datastore\n",
    "articles_ds = create_update_articles_dataset(ws, datastore)"
   ]
  },
  {
   "cell_type": "markdown",
   "id": "751dfcc4",
   "metadata": {},
   "source": [
    "# Pipeline de transformation des données"
   ]
  },
  {
   "cell_type": "markdown",
   "id": "a07da135",
   "metadata": {},
   "source": [
    "## Extraction des données"
   ]
  },
  {
   "cell_type": "code",
   "execution_count": null,
   "id": "4db92650",
   "metadata": {},
   "outputs": [],
   "source": [
    "# On crée l'étape d'extraction des données du feature store\n",
    "(\n",
    "    data_extraction_step,\n",
    "    test_clicks_path,\n",
    "    valid_clicks_path,\n",
    "    train_clicks_path,\n",
    "    articles_path\n",
    ") = get_data_extraction_step(\n",
    "    ws,\n",
    "    SCRIPTS_PATH + \"data_transform\",\n",
    "    test_end_dt=datetime(2017, 10, 17),\n",
    "    test_day_nb=1,\n",
    "    valid_day_nb=1,\n",
    "    train_day_nb=5\n",
    ")"
   ]
  },
  {
   "cell_type": "markdown",
   "id": "d7efecc7",
   "metadata": {},
   "source": [
    "## Transformation des données"
   ]
  },
  {
   "cell_type": "markdown",
   "id": "d9973912",
   "metadata": {},
   "source": [
    "### Création des notation des articles"
   ]
  },
  {
   "cell_type": "code",
   "execution_count": null,
   "id": "31fab1b3",
   "metadata": {},
   "outputs": [],
   "source": [
    "# On crée les étapes de notation des articles\n",
    "test_user_article_ratings_step = get_user_article_ratings_step(\n",
    "    ws,\n",
    "    SCRIPTS_PATH + \"data_transform\",\n",
    "    clicks_path=test_clicks_path,\n",
    "    tn_nb=100,\n",
    "    dataset_name=\"test_user_article_ratings\"\n",
    ")\n",
    "\n",
    "valid_user_article_ratings_step = get_user_article_ratings_step(\n",
    "    ws,\n",
    "    SCRIPTS_PATH + \"data_transform\",\n",
    "    clicks_path=valid_clicks_path,\n",
    "    tn_nb=100,\n",
    "    dataset_name=\"valid_user_article_ratings\"\n",
    ")\n",
    "\n",
    "train_user_article_ratings_step = get_user_article_ratings_step(\n",
    "    ws,\n",
    "    SCRIPTS_PATH + \"data_transform\",\n",
    "    clicks_path=train_clicks_path,\n",
    "    tn_nb=None,\n",
    "    dataset_name=\"train_user_article_ratings\"\n",
    ")"
   ]
  },
  {
   "cell_type": "markdown",
   "id": "5d0af3c7",
   "metadata": {},
   "source": [
    "### Création des profils des articles"
   ]
  },
  {
   "cell_type": "code",
   "execution_count": null,
   "id": "800bb109",
   "metadata": {},
   "outputs": [],
   "source": [
    "# On crée l'étape de création des profils des articles\n",
    "article_profiles_step, article_profiles_path = get_article_profiles_step(\n",
    "    ws,\n",
    "    SCRIPTS_PATH + \"data_transform\",\n",
    "    clicks_path=train_clicks_path,\n",
    "    articles_path=articles_path,\n",
    "    dataset_name=\"article_profiles\"\n",
    ")"
   ]
  },
  {
   "cell_type": "markdown",
   "id": "779846df",
   "metadata": {},
   "source": [
    "### Création des profils des utilisateurs"
   ]
  },
  {
   "cell_type": "code",
   "execution_count": null,
   "id": "53cfc54e",
   "metadata": {},
   "outputs": [],
   "source": [
    "# On crée l'étape de création des profils des utilisateurs\n",
    "train_user_profiles_step = get_user_profiles_step(\n",
    "    ws,\n",
    "    SCRIPTS_PATH + \"data_transform\",\n",
    "    clicks_path=train_clicks_path,\n",
    "    article_profiles_path=article_profiles_path,\n",
    "    dataset_name=\"train_user_profiles\"\n",
    ")"
   ]
  },
  {
   "cell_type": "markdown",
   "id": "47663369",
   "metadata": {},
   "source": [
    "### Exécution du pipeline"
   ]
  },
  {
   "cell_type": "code",
   "execution_count": null,
   "id": "572c5e53",
   "metadata": {},
   "outputs": [],
   "source": [
    "# On soummet l'exécution du pipeline\n",
    "run = exp_submit(\n",
    "    ws,\n",
    "    steps=[\n",
    "        data_extraction_step,\n",
    "        test_user_article_ratings_step,\n",
    "        valid_user_article_ratings_step,\n",
    "        train_user_article_ratings_step,\n",
    "        article_profiles_step,\n",
    "        train_user_profiles_step\n",
    "    ],\n",
    "    regenerate_outputs=False,\n",
    "    wait_for_completion=False,\n",
    "    show_output=False\n",
    ")"
   ]
  },
  {
   "cell_type": "markdown",
   "id": "a9be91b7",
   "metadata": {},
   "source": [
    "# Vérification des données"
   ]
  },
  {
   "cell_type": "markdown",
   "id": "10e73ba6",
   "metadata": {},
   "source": [
    "## Chargement des datasets"
   ]
  },
  {
   "cell_type": "code",
   "execution_count": null,
   "id": "b934c17b",
   "metadata": {},
   "outputs": [],
   "source": [
    "# On charge les datasets\n",
    "test_user_article_ratings_ds = Dataset.get_by_name(ws, \"test_user_article_ratings\")\n",
    "valid_user_article_ratings_ds = Dataset.get_by_name(ws, \"valid_user_article_ratings\")\n",
    "train_user_article_ratings_ds = Dataset.get_by_name(ws, \"train_user_article_ratings\")\n",
    "\n",
    "article_profiles_ds = Dataset.get_by_name(ws, \"article_profiles\")\n",
    "train_user_profiles_ds = Dataset.get_by_name(ws, \"train_user_profiles\")"
   ]
  },
  {
   "cell_type": "code",
   "execution_count": null,
   "id": "14615a74",
   "metadata": {},
   "outputs": [],
   "source": [
    "# On charge les datasets dans des DataFrames\n",
    "test_user_article_ratings = test_user_article_ratings_ds.to_pandas_dataframe()\n",
    "valid_user_article_ratings = valid_user_article_ratings_ds.to_pandas_dataframe()\n",
    "train_user_article_ratings = train_user_article_ratings_ds.to_pandas_dataframe()\n",
    "\n",
    "article_profiles = article_profiles_ds.to_pandas_dataframe()\n",
    "train_user_profiles = train_user_profiles_ds.to_pandas_dataframe()"
   ]
  },
  {
   "cell_type": "markdown",
   "id": "b126125c",
   "metadata": {},
   "source": [
    "## Notation des articles"
   ]
  },
  {
   "cell_type": "code",
   "execution_count": null,
   "id": "ea768479",
   "metadata": {},
   "outputs": [],
   "source": [
    "test_user_article_ratings.iloc[[0, 1, -2, -1]]"
   ]
  },
  {
   "cell_type": "code",
   "execution_count": null,
   "id": "a2389239",
   "metadata": {},
   "outputs": [],
   "source": [
    "valid_user_article_ratings.iloc[[0, 1, -2, -1]]"
   ]
  },
  {
   "cell_type": "code",
   "execution_count": null,
   "id": "c68af614",
   "metadata": {},
   "outputs": [],
   "source": [
    "train_user_article_ratings.iloc[[0, 1, -2, -1]]"
   ]
  },
  {
   "cell_type": "markdown",
   "id": "f94acae2",
   "metadata": {},
   "source": [
    "## Profils des articles"
   ]
  },
  {
   "cell_type": "code",
   "execution_count": null,
   "id": "5d09adba",
   "metadata": {},
   "outputs": [],
   "source": [
    "article_profiles.iloc[[0, 1, -2, -1]]"
   ]
  },
  {
   "cell_type": "markdown",
   "id": "b7be28b5",
   "metadata": {},
   "source": [
    "## Profils des utilisateurs"
   ]
  },
  {
   "cell_type": "code",
   "execution_count": null,
   "id": "0ccadead",
   "metadata": {},
   "outputs": [],
   "source": [
    "train_user_profiles.iloc[[0, 1, -2, -1]]"
   ]
  }
 ],
 "metadata": {
  "kernel_info": {
   "name": "p9"
  },
  "kernelspec": {
   "display_name": "p9",
   "language": "python",
   "name": "p9"
  },
  "language_info": {
   "codemirror_mode": {
    "name": "ipython",
    "version": 3
   },
   "file_extension": ".py",
   "mimetype": "text/x-python",
   "name": "python",
   "nbconvert_exporter": "python",
   "pygments_lexer": "ipython3",
   "version": "3.8.8"
  },
  "nteract": {
   "version": "nteract-front-end@1.0.0"
  },
  "toc": {
   "base_numbering": 1,
   "nav_menu": {},
   "number_sections": true,
   "sideBar": true,
   "skip_h1_title": false,
   "title_cell": "Sommaire",
   "title_sidebar": "Sommaire",
   "toc_cell": true,
   "toc_position": {
    "height": "calc(100% - 180px)",
    "left": "10px",
    "top": "150px",
    "width": "325px"
   },
   "toc_section_display": true,
   "toc_window_display": true
  }
 },
 "nbformat": 4,
 "nbformat_minor": 5
}
