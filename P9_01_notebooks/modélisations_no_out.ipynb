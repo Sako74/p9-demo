{
 "cells": [
  {
   "cell_type": "code",
   "execution_count": null,
   "id": "e77db389-a4e9-4017-bbd1-feb2b179d226",
   "metadata": {
    "gather": {
     "logged": 1635146386364
    },
    "jupyter": {
     "outputs_hidden": false,
     "source_hidden": false
    },
    "nteract": {
     "transient": {
      "deleting": false
     }
    }
   },
   "outputs": [],
   "source": [
    "import sys\n",
    "\n",
    "# On ajoute le dossier racine dans les chemins de fichiers de python\n",
    "sys.path.append(\"../\")"
   ]
  },
  {
   "cell_type": "code",
   "execution_count": null,
   "id": "75cdf066",
   "metadata": {
    "gather": {
     "logged": 1635146389029
    }
   },
   "outputs": [],
   "source": [
    "%load_ext autoreload\n",
    "%autoreload 2\n",
    "\n",
    "from P9_02_scripts.datasets import *\n",
    "from P9_02_scripts.models import *\n",
    "from notebook import *"
   ]
  },
  {
   "cell_type": "markdown",
   "id": "0935a848",
   "metadata": {},
   "source": [
    "# Introduction"
   ]
  },
  {
   "cell_type": "markdown",
   "id": "d5d7c95f",
   "metadata": {},
   "source": [
    "# Chargement des ressources"
   ]
  },
  {
   "cell_type": "markdown",
   "id": "c30ec754",
   "metadata": {},
   "source": [
    "## Chargement du workspace"
   ]
  },
  {
   "cell_type": "code",
   "execution_count": null,
   "id": "bbc6fece",
   "metadata": {
    "gather": {
     "logged": 1635146405042
    }
   },
   "outputs": [],
   "source": [
    "# On charge l’espace de travail Azure Machine Learning existant\n",
    "ws = Workspace.from_config()"
   ]
  },
  {
   "cell_type": "markdown",
   "id": "23776c12",
   "metadata": {},
   "source": [
    "## Chargement du magasin de données"
   ]
  },
  {
   "cell_type": "code",
   "execution_count": null,
   "id": "7deb46f3",
   "metadata": {
    "gather": {
     "logged": 1635146406260
    }
   },
   "outputs": [],
   "source": [
    "# On charge le magasin de données par défaut\n",
    "datastore = ws.get_default_datastore()"
   ]
  },
  {
   "cell_type": "markdown",
   "id": "766d7fe3",
   "metadata": {},
   "source": [
    "## Chargement de l'environnement d'inférence"
   ]
  },
  {
   "cell_type": "code",
   "execution_count": null,
   "id": "8aa50dd7",
   "metadata": {
    "gather": {
     "logged": 1635052010199
    }
   },
   "outputs": [],
   "source": [
    "# On spécifie les packages à installer\n",
    "env_aci = Environment.from_conda_specification(name=\"env_aci\", file_path=\"conda_aci.yml\")\n",
    "\n",
    "# On enregistre l'environnement\n",
    "env_aci.register(workspace=ws);"
   ]
  },
  {
   "cell_type": "markdown",
   "id": "3d1c136d",
   "metadata": {},
   "source": [
    "## Chargement des jeux de données"
   ]
  },
  {
   "cell_type": "code",
   "execution_count": null,
   "id": "e337860a",
   "metadata": {
    "gather": {
     "logged": 1635052014378
    }
   },
   "outputs": [],
   "source": [
    "train_user_article_ratings_ds = Dataset.get_by_name(ws, \"train_user_article_ratings\")\n",
    "valid_user_article_ratings_ds = Dataset.get_by_name(ws, \"valid_user_article_ratings\")\n",
    "test_user_article_ratings_ds = Dataset.get_by_name(ws, \"test_user_article_ratings\")\n",
    "\n",
    "article_profiles_ds = Dataset.get_by_name(ws, \"article_profiles\")\n",
    "\n",
    "train_user_profiles_ds = Dataset.get_by_name(ws, \"train_user_profiles\")"
   ]
  },
  {
   "cell_type": "markdown",
   "id": "5d257416",
   "metadata": {},
   "source": [
    "# Développement des modèles"
   ]
  },
  {
   "cell_type": "markdown",
   "id": "b0eca3c0",
   "metadata": {},
   "source": [
    "## Modèle baseline"
   ]
  },
  {
   "cell_type": "markdown",
   "id": "a5f4e794",
   "metadata": {},
   "source": [
    "### Entrainement du modèle"
   ]
  },
  {
   "cell_type": "code",
   "execution_count": null,
   "id": "460533b5",
   "metadata": {},
   "outputs": [],
   "source": [
    "params = {\n",
    "    # Jeux de données\n",
    "    \"train_user_article_ratings\": \"train_user_article_ratings\",\n",
    "    \"valid_user_article_ratings\": \"valid_user_article_ratings\",\n",
    "    \"article_profiles\": \"article_profiles\",\n",
    "    \n",
    "    # Hyperparamètres\n",
    "    \"rating_col\": DEFAULT_RATING_COL\n",
    "}"
   ]
  },
  {
   "cell_type": "code",
   "execution_count": null,
   "id": "499c391b",
   "metadata": {},
   "outputs": [],
   "source": [
    "from P9_02_scripts.model_baseline_train.run import exp_submit\n",
    "\n",
    "run = exp_submit(\n",
    "    ws,\n",
    "    SCRIPTS_PATH + \"model_baseline_train\",\n",
    "    params,\n",
    "    gs_params=None,\n",
    "    wait_for_completion=False,\n",
    "    show_output=False\n",
    ")"
   ]
  },
  {
   "cell_type": "code",
   "execution_count": null,
   "id": "1c95e7e7",
   "metadata": {},
   "outputs": [],
   "source": [
    "# # On affiche un widget avec les détails de l'exécution\n",
    "# RunDetails(run).show()"
   ]
  },
  {
   "cell_type": "code",
   "execution_count": null,
   "id": "5d1e4744",
   "metadata": {},
   "outputs": [],
   "source": [
    "# On attend la fin de l'exécution\n",
    "run.wait_for_completion(show_output=False);"
   ]
  },
  {
   "cell_type": "markdown",
   "id": "d1f900f0",
   "metadata": {},
   "source": [
    "### Analyse des résultats"
   ]
  },
  {
   "cell_type": "code",
   "execution_count": null,
   "id": "619fa886",
   "metadata": {},
   "outputs": [],
   "source": [
    "# On récupère la dernière exécution de l'expérience.\n",
    "run = get_last_run(ws, \"model_baseline_train\")"
   ]
  },
  {
   "cell_type": "code",
   "execution_count": null,
   "id": "4b7f862e",
   "metadata": {},
   "outputs": [],
   "source": [
    "# On télécharge le fichier contenant les résultats de l'évaluation du modèle\n",
    "run.download_file(\"outputs/res.parquet\", PARQUET_PATH + \"model_baseline_train_res.parquet\")"
   ]
  },
  {
   "cell_type": "code",
   "execution_count": null,
   "id": "c2772149",
   "metadata": {},
   "outputs": [],
   "source": [
    "# On ouvre et on affiche les résultats\n",
    "res = pd.read_parquet(PARQUET_PATH + \"model_baseline_train_res.parquet\")\n",
    "res"
   ]
  },
  {
   "cell_type": "markdown",
   "id": "7d2196a9",
   "metadata": {},
   "source": [
    "### Enregistrement des hyperparamètres"
   ]
  },
  {
   "cell_type": "code",
   "execution_count": null,
   "id": "dcc3f5c0",
   "metadata": {},
   "outputs": [],
   "source": [
    "with open(\"../P9_02_scripts/model_baseline_train/params.json\", \"w\") as f:\n",
    "    json.dump(params, f)"
   ]
  },
  {
   "cell_type": "markdown",
   "id": "68505d64",
   "metadata": {},
   "source": [
    "## Modèle de content based filtering"
   ]
  },
  {
   "cell_type": "markdown",
   "id": "c9f60b21",
   "metadata": {},
   "source": [
    "### Cold start problem"
   ]
  },
  {
   "cell_type": "markdown",
   "id": "8a1fc05d",
   "metadata": {},
   "source": [
    "### Recherche des hyperparamètres"
   ]
  },
  {
   "cell_type": "code",
   "execution_count": null,
   "id": "f6ff396a",
   "metadata": {},
   "outputs": [],
   "source": [
    "params = {\n",
    "    # Jeux de données\n",
    "    \"train_user_article_ratings\": \"train_user_article_ratings\",\n",
    "    \"valid_user_article_ratings\": \"valid_user_article_ratings\",\n",
    "    \"article_profiles\": \"article_profiles\",\n",
    "    \"train_user_profiles\": \"train_user_profiles\",\n",
    "    \n",
    "    # Hyperparamètres\n",
    "    \"rating_col\": DEFAULT_RATING_COL\n",
    "}\n",
    "\n",
    "gs_params = {\n",
    "    \"num_vars_scale\": [0., 0.5, 1.],\n",
    "    \"cat_vars_scale\": [0., 0.5, 1.]\n",
    "}"
   ]
  },
  {
   "cell_type": "code",
   "execution_count": null,
   "id": "cd1b8a9e",
   "metadata": {},
   "outputs": [],
   "source": [
    "from P9_02_scripts.model_content_based_train.run import exp_submit\n",
    "\n",
    "run = exp_submit(\n",
    "    ws,\n",
    "    SCRIPTS_PATH + \"model_content_based_train\",\n",
    "    params,\n",
    "    gs_params=gs_params,\n",
    "    wait_for_completion=False,\n",
    "    show_output=False\n",
    ")"
   ]
  },
  {
   "cell_type": "code",
   "execution_count": null,
   "id": "e1fba58e",
   "metadata": {},
   "outputs": [],
   "source": [
    "# # On affiche un widget avec les détails de l'exécution\n",
    "# RunDetails(run).show()"
   ]
  },
  {
   "cell_type": "code",
   "execution_count": null,
   "id": "60e15996",
   "metadata": {},
   "outputs": [],
   "source": [
    "# On attend la fin de l'exécution\n",
    "run.wait_for_completion(show_output=False);"
   ]
  },
  {
   "cell_type": "markdown",
   "id": "f0c1e3f9",
   "metadata": {},
   "source": [
    "### Analyse des résultats"
   ]
  },
  {
   "cell_type": "code",
   "execution_count": null,
   "id": "ba4fda70",
   "metadata": {},
   "outputs": [],
   "source": [
    "# On récupère la dernière exécution de l'expérience.\n",
    "run = get_last_run(ws, \"model_content_based_train\")"
   ]
  },
  {
   "cell_type": "code",
   "execution_count": null,
   "id": "78d3ed77",
   "metadata": {},
   "outputs": [],
   "source": [
    "# On récupère la meilleure exécution de la recherche des hyperparamètres.\n",
    "best_run = run.get_best_run_by_primary_metric()"
   ]
  },
  {
   "cell_type": "code",
   "execution_count": null,
   "id": "74992751",
   "metadata": {},
   "outputs": [],
   "source": [
    "# On télécharge le fichier contenant les résultats de l'évaluation du modèle\n",
    "best_run.download_file(\"outputs/res.parquet\", PARQUET_PATH + \"model_content_based_train_res.parquet\")"
   ]
  },
  {
   "cell_type": "code",
   "execution_count": null,
   "id": "22d3b58e",
   "metadata": {},
   "outputs": [],
   "source": [
    "# On ouvre et on affiche les résultats\n",
    "res = pd.read_parquet(PARQUET_PATH + \"model_content_based_train_res.parquet\")\n",
    "res"
   ]
  },
  {
   "cell_type": "markdown",
   "id": "b9e9f406",
   "metadata": {},
   "source": [
    "### Enregistrement des hyperparamètres"
   ]
  },
  {
   "cell_type": "code",
   "execution_count": null,
   "id": "fe0479ab",
   "metadata": {},
   "outputs": [],
   "source": [
    "# On récupère les hyperparamètres du meilleur modèle\n",
    "best_hyperparameters = json.loads(run.get_hyperparameters()[best_run.id])\n",
    "best_hyperparameters"
   ]
  },
  {
   "cell_type": "code",
   "execution_count": null,
   "id": "924a78ea",
   "metadata": {},
   "outputs": [],
   "source": [
    "# On met en forme les paramètres\n",
    "best_hyperparameters = {k.replace(\"--\", \"\"): v for k, v in best_hyperparameters.items()}"
   ]
  },
  {
   "cell_type": "code",
   "execution_count": null,
   "id": "2df2ccda",
   "metadata": {},
   "outputs": [],
   "source": [
    "# On met à jour les paramètres de base avec les meilleurs hyperparameters\n",
    "params.update(best_hyperparameters)"
   ]
  },
  {
   "cell_type": "code",
   "execution_count": null,
   "id": "6710ceff",
   "metadata": {},
   "outputs": [],
   "source": [
    "# On enregistre les paramètres\n",
    "with open(\"../P9_02_scripts/model_content_based_train/params.json\", \"w\") as f:\n",
    "    json.dump(params, f)"
   ]
  },
  {
   "cell_type": "markdown",
   "id": "7d970a48",
   "metadata": {},
   "source": [
    "## Modèle de collaborative filtering"
   ]
  },
  {
   "cell_type": "markdown",
   "id": "5bd88bcc",
   "metadata": {},
   "source": [
    "### Cold start problem"
   ]
  },
  {
   "cell_type": "markdown",
   "id": "010676ec",
   "metadata": {},
   "source": [
    "### Recherche des hyperparamètres"
   ]
  },
  {
   "cell_type": "code",
   "execution_count": null,
   "id": "3dd5edc5",
   "metadata": {},
   "outputs": [],
   "source": [
    "params = {\n",
    "    # Jeux de données\n",
    "    \"train_user_article_ratings\": \"train_user_article_ratings\",\n",
    "    \"valid_user_article_ratings\": \"valid_user_article_ratings\",\n",
    "    \"article_profiles\": \"article_profiles\"\n",
    "}\n",
    "\n",
    "gs_params = {\n",
    "    \"rating_col\": [\"rating_click_nb\", \"rating_click_per_session_ratio\"],\n",
    "    \"n_factors\": [50, 100, 200],\n",
    "    \"n_epochs\": [10, 20, 30],\n",
    "    \"lr_all\": [0.0001, 0.005, 0.025],\n",
    "    \"reg_all\": [0.004, 0.02, 0.1]\n",
    "}"
   ]
  },
  {
   "cell_type": "code",
   "execution_count": null,
   "id": "e77be304",
   "metadata": {},
   "outputs": [],
   "source": [
    "from P9_02_scripts.model_collaborative_filtering_train.run import exp_submit\n",
    "\n",
    "run = exp_submit(\n",
    "    ws,\n",
    "    SCRIPTS_PATH + \"model_collaborative_filtering_train\",\n",
    "    params,\n",
    "    gs_params=gs_params,\n",
    "    wait_for_completion=False,\n",
    "    show_output=False\n",
    ")"
   ]
  },
  {
   "cell_type": "code",
   "execution_count": null,
   "id": "6208ec9f",
   "metadata": {},
   "outputs": [],
   "source": [
    "# # On affiche un widget avec les détails de l'exécution\n",
    "# RunDetails(run).show()"
   ]
  },
  {
   "cell_type": "code",
   "execution_count": null,
   "id": "39285192",
   "metadata": {},
   "outputs": [],
   "source": [
    "# On attend la fin de l'exécution\n",
    "run.wait_for_completion(show_output=False);"
   ]
  },
  {
   "cell_type": "markdown",
   "id": "61780f71",
   "metadata": {},
   "source": [
    "### Analyse des résultats"
   ]
  },
  {
   "cell_type": "code",
   "execution_count": null,
   "id": "c016f0d2",
   "metadata": {},
   "outputs": [],
   "source": [
    "# On récupère la dernière exécution de l'expérience.\n",
    "run = get_last_run(ws, \"model_collaborative_filtering_train\")"
   ]
  },
  {
   "cell_type": "code",
   "execution_count": null,
   "id": "a96f6178",
   "metadata": {},
   "outputs": [],
   "source": [
    "# On récupère la meilleure exécution de la recherche des hyperparamètres.\n",
    "best_run = run.get_best_run_by_primary_metric()"
   ]
  },
  {
   "cell_type": "code",
   "execution_count": null,
   "id": "2a93f995",
   "metadata": {},
   "outputs": [],
   "source": [
    "# On télécharge le fichier contenant les résultats de l'évaluation du modèle\n",
    "best_run.download_file(\"outputs/res.parquet\", PARQUET_PATH + \"model_collaborative_filtering_train_res.parquet\")"
   ]
  },
  {
   "cell_type": "code",
   "execution_count": null,
   "id": "48fd0ae6",
   "metadata": {},
   "outputs": [],
   "source": [
    "# On ouvre et on affiche les résultats\n",
    "res = pd.read_parquet(PARQUET_PATH + \"model_collaborative_filtering_train_res.parquet\")\n",
    "res"
   ]
  },
  {
   "cell_type": "markdown",
   "id": "8a2fe7b1",
   "metadata": {},
   "source": [
    "### Enregistrement des hyperparamètres"
   ]
  },
  {
   "cell_type": "code",
   "execution_count": null,
   "id": "0716755b",
   "metadata": {},
   "outputs": [],
   "source": [
    "# On récupère les hyperparamètres du meilleur modèle\n",
    "best_hyperparameters = json.loads(run.get_hyperparameters()[best_run.id])\n",
    "best_hyperparameters"
   ]
  },
  {
   "cell_type": "code",
   "execution_count": null,
   "id": "7ab97929",
   "metadata": {},
   "outputs": [],
   "source": [
    "# On met en forme les paramètres\n",
    "best_hyperparameters = {k.replace(\"--\", \"\"): v for k, v in best_hyperparameters.items()}"
   ]
  },
  {
   "cell_type": "code",
   "execution_count": null,
   "id": "e2f96a77",
   "metadata": {},
   "outputs": [],
   "source": [
    "# On met à jour les paramètres de base avec les meilleurs hyperparameters\n",
    "params.update(best_hyperparameters)"
   ]
  },
  {
   "cell_type": "code",
   "execution_count": null,
   "id": "4f8d66c2",
   "metadata": {},
   "outputs": [],
   "source": [
    "# On enregistre les paramètres\n",
    "with open(\"../P9_02_scripts/model_collaborative_filtering_train/params.json\", \"w\") as f:\n",
    "    json.dump(params, f)"
   ]
  },
  {
   "cell_type": "markdown",
   "id": "79bf1f47",
   "metadata": {},
   "source": [
    "# Sélection du meilleur modèle"
   ]
  },
  {
   "cell_type": "markdown",
   "id": "fe26b977",
   "metadata": {},
   "source": [
    "## Comparaison des résultats"
   ]
  },
  {
   "cell_type": "code",
   "execution_count": null,
   "id": "85938785",
   "metadata": {},
   "outputs": [],
   "source": [
    "model_baseline_train_res = pd.read_parquet(PARQUET_PATH + \"model_baseline_train_res.parquet\")\n",
    "model_content_based_train_res = pd.read_parquet(PARQUET_PATH + \"model_content_based_train_res.parquet\")\n",
    "model_collaborative_filtering_train_res = pd.read_parquet(PARQUET_PATH + \"model_collaborative_filtering_train_res.parquet\")"
   ]
  },
  {
   "cell_type": "code",
   "execution_count": null,
   "id": "2237f5db",
   "metadata": {},
   "outputs": [],
   "source": [
    "# On réunit tous les résultats\n",
    "valid_res = pd.concat([\n",
    "    model_baseline_train_res,\n",
    "    model_content_based_train_res,\n",
    "    model_collaborative_filtering_train_res\n",
    "])\n",
    "\n",
    "# On classe les modèles en fonction du meilleur recall obtenu sur le jeu de validation\n",
    "valid_res = valid_res.sort_values(\"recall@5\", ascending=False).reset_index(drop=True)\n",
    "\n",
    "# On modifie le nom des colonnes\n",
    "valid_res = valid_res.rename(columns={\n",
    "    \"precision@5\": \"valid_precision@5\",\n",
    "    \"recall@5\": \"valid_recall@5\",\n",
    "})\n",
    "valid_res"
   ]
  },
  {
   "cell_type": "markdown",
   "id": "ccdcdaf7",
   "metadata": {},
   "source": [
    "## Enregistrement du modèle"
   ]
  },
  {
   "cell_type": "code",
   "execution_count": null,
   "id": "dd496a85",
   "metadata": {},
   "outputs": [],
   "source": [
    "# On récupère la dernière exécution de l'expérience.\n",
    "run = get_last_run(ws, \"model_content_based_train\")"
   ]
  },
  {
   "cell_type": "code",
   "execution_count": null,
   "id": "1466e817",
   "metadata": {},
   "outputs": [],
   "source": [
    "# On récupère la meilleure exécution de la recherche des hyperparamètres.\n",
    "best_run = run.get_best_run_by_primary_metric()"
   ]
  },
  {
   "cell_type": "code",
   "execution_count": null,
   "id": "926fb830",
   "metadata": {},
   "outputs": [],
   "source": [
    "# On enregistre le modèle\n",
    "model = best_run.register_model(\n",
    "    model_name=\"recommender\",\n",
    "    model_path=\"outputs/model.joblib\",\n",
    "    tags={\"class_name\": \"ContentBasedRecommender\"}\n",
    ")"
   ]
  },
  {
   "cell_type": "markdown",
   "id": "da63180c",
   "metadata": {},
   "source": [
    "# Analyse du modèle"
   ]
  },
  {
   "cell_type": "markdown",
   "id": "074ee12f",
   "metadata": {},
   "source": [
    "## Chargement du modèle"
   ]
  },
  {
   "cell_type": "code",
   "execution_count": null,
   "id": "640297f5",
   "metadata": {},
   "outputs": [],
   "source": [
    "# On télécharge les données\n",
    "model = Model(ws, \"recommender\")\n",
    "model_path = model.download(target_dir=MODEL_PATH, exist_ok=True)\n",
    "model_path"
   ]
  },
  {
   "cell_type": "code",
   "execution_count": null,
   "id": "14d892ec",
   "metadata": {},
   "outputs": [],
   "source": [
    "# import sys\n",
    "# from scripts import training\n",
    "\n",
    "# # On inscrit les modules nécessaires au chargement du modèle\n",
    "# sys.modules['training'] = training\n",
    "\n",
    "# On charge le modèle\n",
    "model = joblib.load(model_path)"
   ]
  },
  {
   "cell_type": "markdown",
   "id": "64c7b121",
   "metadata": {},
   "source": [
    "## Chargement des données de test"
   ]
  },
  {
   "cell_type": "code",
   "execution_count": null,
   "id": "676dcb8d",
   "metadata": {},
   "outputs": [],
   "source": [
    "# On charge les datasets dans des DataFrames\n",
    "test_user_article_ratings = test_user_article_ratings_ds.to_pandas_dataframe()\n",
    "article_profiles = article_profiles_ds.to_pandas_dataframe()"
   ]
  },
  {
   "cell_type": "code",
   "execution_count": null,
   "id": "8ec2acdd",
   "metadata": {},
   "outputs": [],
   "source": [
    "# On filtre les colonnes pour obtenir le format : user_id, article_id, rating_id\n",
    "test_ratings = test_user_article_ratings[[\"user_id\", \"article_id\", DEFAULT_RATING_COL]]\n",
    "test_ratings = test_ratings.rename(columns={DEFAULT_RATING_COL: \"rating\"})"
   ]
  },
  {
   "cell_type": "markdown",
   "id": "b0e468a3",
   "metadata": {},
   "source": [
    "## Evaluation sur le jeu de test"
   ]
  },
  {
   "cell_type": "code",
   "execution_count": null,
   "id": "5b8fc160",
   "metadata": {},
   "outputs": [],
   "source": [
    "test_res = get_precision_recall_n_score(\n",
    "    model,\n",
    "    \"ContentBasedRecommender\",\n",
    "    test_ratings,\n",
    "    article_profiles,\n",
    "    top_n=5\n",
    ")"
   ]
  },
  {
   "cell_type": "code",
   "execution_count": null,
   "id": "ef8b99b4",
   "metadata": {},
   "outputs": [],
   "source": [
    "# On recomme les colonnes\n",
    "test_res = test_res.rename(columns={\n",
    "    \"precision@5\": \"test_precision@5\",\n",
    "    \"recall@5\": \"test_recall@5\",\n",
    "})\n",
    "\n",
    "# On merge les résultats avec ceux du jeu de validation\n",
    "pd.merge(valid_res, test_res)"
   ]
  },
  {
   "cell_type": "markdown",
   "id": "c0d41d84",
   "metadata": {},
   "source": [
    "# Déploiement manuel du MVP\n",
    "\n",
    "<img src=\"./data/images/MLOps level 0.svg\" alt=\"MLOps level 0.svg\" width=\"900\"/>\n",
    "<p style=\"text-align: center; text-decoration: underline;\">MLOps level 0 (<a href=\"https://cloud.google.com/architecture/mlops-continuous-delivery-and-automation-pipelines-in-machine-learning\">source</a>)</p>"
   ]
  },
  {
   "cell_type": "markdown",
   "id": "3c53f57b",
   "metadata": {},
   "source": [
    "## Déploiement du modèle sur Azure Container Instances\n",
    "\n",
    "Nous allons utiliser Azure Container Instances. Il s'agit d'une solution simple pour déployer un modèle à titre expérimental. Cette solution est cependant déconseillé par Microsoft pour le déploiement de modèle en production.\n",
    "\n",
    "Azure va automatiquement créer un servce web et un point de terminaison pour y accéder via une API REST. Quand le service web recevra des tweets à analyser, il les transmettra à un fichier de scoring que l'on doit lui fournir. "
   ]
  },
  {
   "cell_type": "code",
   "execution_count": null,
   "id": "babea2be",
   "metadata": {},
   "outputs": [],
   "source": [
    "# On récupère notre modèle\n",
    "model = Model(ws, \"recommender\")"
   ]
  },
  {
   "cell_type": "code",
   "execution_count": null,
   "id": "2ed7ecad",
   "metadata": {},
   "outputs": [],
   "source": [
    "# On crée la configuration pour le déploiement.\n",
    "aciconfig = AciWebservice.deploy_configuration(\n",
    "    cpu_cores=1, \n",
    "    memory_gb=8,\n",
    "    description=\"Recommendation d'articles\"\n",
    ")\n",
    "\n",
    "# On spécifie l'environnement et le script chargé de prédire\n",
    "# si un tweet est négatif ou non.\n",
    "inference_config = InferenceConfig(\n",
    "    entry_script=\"recommender_aci.py\",\n",
    "    source_directory=SCRIPTS_PATH,\n",
    "    environment=env_aci\n",
    ")"
   ]
  },
  {
   "cell_type": "code",
   "execution_count": null,
   "id": "89ec58f8",
   "metadata": {},
   "outputs": [],
   "source": [
    "# On déploie le modèle\n",
    "model_aci = Model.deploy(\n",
    "    workspace=ws, \n",
    "    name=\"p9-recommender-aci\",\n",
    "    models=[model], \n",
    "    inference_config=inference_config, \n",
    "    deployment_config=aciconfig\n",
    ")"
   ]
  },
  {
   "cell_type": "code",
   "execution_count": null,
   "id": "3e8b68da",
   "metadata": {},
   "outputs": [],
   "source": [
    "model_aci.wait_for_deployment(show_output=True)"
   ]
  },
  {
   "cell_type": "code",
   "execution_count": null,
   "id": "9a3cf627",
   "metadata": {},
   "outputs": [],
   "source": [
    "print(model_aci.scoring_uri)"
   ]
  },
  {
   "cell_type": "markdown",
   "id": "e3c71b77",
   "metadata": {},
   "source": [
    "## Test du modèle"
   ]
  },
  {
   "cell_type": "code",
   "execution_count": null,
   "id": "7cc87bdc",
   "metadata": {},
   "outputs": [],
   "source": [
    "data = {\n",
    "    \"user_id\": \"1234\",\n",
    "    \"session_start_dt\": datetime(2017, 10, 16, 12).isoformat(),\n",
    "    \"top_n\": 5\n",
    "}"
   ]
  },
  {
   "cell_type": "code",
   "execution_count": null,
   "id": "f0a193f1",
   "metadata": {},
   "outputs": [],
   "source": [
    "r = requests.post(model_aci.scoring_uri, json=data)\n",
    "\n",
    "if not r.ok:\n",
    "    print(f\"Erreur de type {r.status_code}\")"
   ]
  },
  {
   "cell_type": "code",
   "execution_count": null,
   "id": "6f65de40",
   "metadata": {},
   "outputs": [],
   "source": [
    "r.json()"
   ]
  },
  {
   "cell_type": "markdown",
   "id": "a5431ddc",
   "metadata": {},
   "source": [
    "## Déploiement du service de prédiction"
   ]
  },
  {
   "cell_type": "code",
   "execution_count": null,
   "id": "9661d608",
   "metadata": {},
   "outputs": [],
   "source": [
    "dotenv_example_file_path = \"P9_03_function/Recommender/.env.example\"\n",
    "dotenv_file_path = \"P9_03_function/Recommender/.env\"\n",
    "\n",
    "# On crée le fichier .env dans le dossier de l'azure function\n",
    "copy2(dotenv_example_file_path, dotenv_file_path)"
   ]
  },
  {
   "cell_type": "code",
   "execution_count": null,
   "id": "a084800c",
   "metadata": {},
   "outputs": [],
   "source": [
    "# On met à jour dans le fichier .env la variable qui représente\n",
    "# l'url du service de prédiction déployé sur ACI.\n",
    "dotenv.set_key(dotenv_file_path, \"MODEL_ACI_URL\", model_aci.scoring_uri)"
   ]
  },
  {
   "cell_type": "markdown",
   "id": "7d149687",
   "metadata": {},
   "source": [
    "Création et déploiement de l'azure function :\n",
    "- `conda activate p9`\n",
    "- `./function_create.sh`\n",
    "- `./function_deploy.sh`"
   ]
  },
  {
   "cell_type": "markdown",
   "id": "82a82ad5",
   "metadata": {},
   "source": [
    "## Test du service de prédiction"
   ]
  },
  {
   "cell_type": "code",
   "execution_count": null,
   "id": "ee0f9767",
   "metadata": {},
   "outputs": [],
   "source": [
    "# On lit les configurations\n",
    "config_parser = ConfigParser()\n",
    "config_parser.read(\"function_config.txt\")\n",
    "\n",
    "# On récupère le nom du site\n",
    "azure_function_name = config_parser.get(\"DEFAULT\", \"functionAppName\").strip('\"')\n",
    "print(f\"Le nom de l'azure function est : {azure_function_name}\")"
   ]
  },
  {
   "cell_type": "code",
   "execution_count": null,
   "id": "d9a21eef",
   "metadata": {},
   "outputs": [],
   "source": [
    "data = {\"userId\": \"1234\"}"
   ]
  },
  {
   "cell_type": "code",
   "execution_count": null,
   "id": "ea99ba4c",
   "metadata": {},
   "outputs": [],
   "source": [
    "r = requests.post(f\"https://{azure_function_name}.azurewebsites.net/api/recommender\", json=data)\n",
    "\n",
    "if not r.ok:\n",
    "    print(f\"Erreur de type {r.status_code}\")"
   ]
  },
  {
   "cell_type": "code",
   "execution_count": null,
   "id": "ea29ed5a",
   "metadata": {},
   "outputs": [],
   "source": [
    "r.json()"
   ]
  },
  {
   "cell_type": "markdown",
   "id": "14547cc1",
   "metadata": {},
   "source": [
    "## Nettoyage des ressources\n",
    "\n",
    "On pensera à supprimer le service web à la fin de cette démonstration pour éviter des coût inutiles."
   ]
  },
  {
   "cell_type": "code",
   "execution_count": null,
   "id": "3e25eff0",
   "metadata": {},
   "outputs": [],
   "source": [
    "# Suppression du groupe de ressources du modèle déployé sur ACI\n",
    "model_aci.delete()"
   ]
  },
  {
   "cell_type": "markdown",
   "id": "7b25d0ac",
   "metadata": {},
   "source": [
    "Suppression du groupe de ressources du service de prédiction\n",
    "- `conda activate p9`\n",
    "- `./function_delete.sh`"
   ]
  },
  {
   "cell_type": "markdown",
   "id": "fa6b7c55",
   "metadata": {},
   "source": [
    "# Architecture de déploiement automatisé\n",
    "\n",
    "<img src=\"./data/images/MLOps level 1.svg\" alt=\"MLOps level 1.svg\" width=\"900\"/>\n",
    "<p style=\"text-align: center; text-decoration: underline;\">MLOps level 1 (<a href=\"https://cloud.google.com/architecture/mlops-continuous-delivery-and-automation-pipelines-in-machine-learning\">source</a>)</p>"
   ]
  },
  {
   "cell_type": "markdown",
   "id": "36bc3dbc",
   "metadata": {},
   "source": [
    "# Pour aller plus loin"
   ]
  }
 ],
 "metadata": {
  "kernel_info": {
   "name": "p9"
  },
  "kernelspec": {
   "display_name": "p9",
   "language": "python",
   "name": "p9"
  },
  "language_info": {
   "codemirror_mode": {
    "name": "ipython",
    "version": 3
   },
   "file_extension": ".py",
   "mimetype": "text/x-python",
   "name": "python",
   "nbconvert_exporter": "python",
   "pygments_lexer": "ipython3",
   "version": "3.8.8"
  },
  "nteract": {
   "version": "nteract-front-end@1.0.0"
  },
  "toc": {
   "base_numbering": 1,
   "nav_menu": {},
   "number_sections": true,
   "sideBar": true,
   "skip_h1_title": false,
   "title_cell": "Table of Contents",
   "title_sidebar": "Contents",
   "toc_cell": false,
   "toc_position": {
    "height": "calc(100% - 180px)",
    "left": "10px",
    "top": "150px",
    "width": "351px"
   },
   "toc_section_display": true,
   "toc_window_display": true
  }
 },
 "nbformat": 4,
 "nbformat_minor": 5
}
